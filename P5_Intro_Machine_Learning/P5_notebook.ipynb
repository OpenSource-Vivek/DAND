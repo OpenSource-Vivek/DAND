{
 "cells": [
  {
   "cell_type": "markdown",
   "metadata": {},
   "source": [
    "In this notebook, I test out several different ML algorithms in an attempt to create a prediction model for Enron Scandal POIs. "
   ]
  },
  {
   "cell_type": "code",
   "execution_count": 1,
   "metadata": {
    "collapsed": false
   },
   "outputs": [
    {
     "name": "stderr",
     "output_type": "stream",
     "text": [
      "C:\\Users\\Scott\\Anaconda2\\lib\\site-packages\\sklearn\\cross_validation.py:44: DeprecationWarning: This module was deprecated in version 0.18 in favor of the model_selection module into which all the refactored classes and functions are moved. Also note that the interface of the new CV iterators are different from that of this module. This module will be removed in 0.20.\n",
      "  \"This module will be removed in 0.20.\", DeprecationWarning)\n"
     ]
    }
   ],
   "source": [
    "import sys\n",
    "import pickle\n",
    "sys.path.append(\"../tools/\")\n",
    "\n",
    "from feature_format import featureFormat, targetFeatureSplit\n",
    "from tester import dump_classifier_and_data\n",
    "\n",
    "### Task 1: initial feature selection\n",
    "# 3/10 based on visualizations, removed email_address, loan_advances, director_fees, \n",
    "# restricted_stock_deferred, other\n",
    "\n",
    "features_list1 = ['poi', 'salary', 'deferral_payments', 'total_payments', 'bonus', 'director_fees', 'other',\n",
    "                 'deferred_income', 'total_stock_value', 'exercised_stock_options','restricted_stock_deferred',\n",
    "                 'long_term_incentive', 'restricted_stock', 'director_fees', 'to_messages','from_messages', \n",
    "                 'from_poi_to_this_person', 'from_this_person_to_poi', 'shared_receipt_with_poi',\n",
    "                 'total_salary_ratio', 'payments_plus_stock']\n",
    "                 \n",
    "\n",
    "\n",
    "### Load the dictionary containing the dataset\n",
    "with open(\"final_project_dataset.pkl\", \"r\") as data_file:\n",
    "    data_dict1 = pickle.load(data_file)\n",
    "\n",
    "### Task 2: Remove outlier identified from earlier visualizatoin\n",
    "data_dict1.pop('TOTAL')\n",
    "data_dict1.pop('THE TRAVEL AGENCY IN THE PARK')\n",
    "data_dict1.pop('LOCKHART EUGENE E')\n",
    "\n",
    "### Task 3: Create new features to test\n",
    "# total_salary_ratio is ratio of total_payements which includes bonus, long term incentive, and other payments \n",
    "# to employees salary\n",
    "# payments_plus_stock is total_payments added to total_stock_value\n",
    "\n",
    "for name in data_dict1:\n",
    "    if data_dict1[name]['total_payments'] != 'NaN' and data_dict1[name]['salary'] != 'NaN':\n",
    "        data_dict1[name]['total_salary_ratio'] = (data_dict1[name]['total_payments']*1./data_dict1[name]['salary'])\n",
    "    else:\n",
    "        data_dict1[name]['total_salary_ratio'] = 'NaN'\n",
    "    if data_dict1[name]['total_payments'] != 'NaN' and data_dict1[name]['total_stock_value'] != 'NaN':\n",
    "        data_dict1[name]['payments_plus_stock'] = data_dict1[name]['total_payments'] \\\n",
    "        + data_dict1[name]['total_stock_value']\n",
    "    else:\n",
    "        data_dict1[name]['payments_plus_stock'] = 'NaN'\n",
    "           \n",
    "                 \n",
    "### Store to my_dataset for easy export below.\n",
    "my_dataset1 = data_dict1\n",
    "\n",
    "\n",
    "### Extract features and labels from dataset for local testing\n",
    "# featureFormat converts dictionary to numpy array of features\n",
    "# also removes NaN and converts to 0.0\n",
    "\n",
    "data1 = featureFormat(my_dataset1, features_list1, sort_keys = True)\n",
    "\n"
   ]
  },
  {
   "cell_type": "code",
   "execution_count": 2,
   "metadata": {
    "collapsed": false
   },
   "outputs": [
    {
     "name": "stdout",
     "output_type": "stream",
     "text": [
      "initial # of features = 21\n",
      " \n",
      "Selected Features, Scores, P-Values\n",
      "[('exercised_stock_options', '24.82', '0.000'), ('total_stock_value', '24.18', '0.000'), ('bonus', '20.79', '0.000'), ('salary', '18.29', '0.000'), ('payments_plus_stock', '17.81', '0.000'), ('deferred_income', '11.46', '0.001'), ('long_term_incentive', '9.92', '0.002'), ('restricted_stock', '9.21', '0.003'), ('total_payments', '8.77', '0.004'), ('shared_receipt_with_poi', '8.59', '0.004'), ('from_poi_to_this_person', '5.24', '0.024'), ('other', '4.19', '0.043'), ('from_this_person_to_poi', '2.38', '0.125'), ('director_fees', '2.13', '0.147'), ('director_fees', '2.13', '0.147'), ('to_messages', '1.65', '0.202'), ('deferral_payments', '0.22', '0.636'), ('from_messages', '0.17', '0.681'), ('restricted_stock_deferred', '0.07', '0.798'), ('total_salary_ratio', '0.05', '0.819')]\n"
     ]
    }
   ],
   "source": [
    "\n",
    "# for a given numpy array, splits out the first feature for prediction (in this case, 'poi')\n",
    "# return target and features as seperate lists\n",
    "labels, features = targetFeatureSplit(data1)\n",
    "\n",
    "\n",
    "### split into training and testing sets\n",
    "# due to small dataset, I'm not holding out any test set and will train in entirety of data\n",
    "from sklearn.cross_validation import train_test_split\n",
    "\n",
    "features_train, features_test, labels_train, labels_test = \\\n",
    "    train_test_split(features, labels, test_size=0, random_state=42)\n",
    "\n",
    "### Try using SelectKBest to find best features in univariate testing (does not look at feature interactions)\n",
    "from sklearn.feature_selection import SelectKBest, f_classif\n",
    "\n",
    "print \"initial # of features = \" + str(len(features_list1))\n",
    "\n",
    "skb = SelectKBest(k = 'all')\n",
    "best_features = skb.fit_transform(features_train, labels_train)\n",
    "\n",
    "\n",
    "# Get SelectKBest scores, rounded to 2 decimal places, name them \"feature_scores\"\n",
    "feature_scores = ['%.2f' % elem for elem in skb.scores_ ]\n",
    "# Get SelectKBest pvalues, rounded to 3 decimal places, name them \"feature_scores_pvalues\"\n",
    "feature_scores_pvalues = ['%.3f' % elem for elem in  skb.pvalues_ ]\n",
    "# Get SelectKBest feature names, whose indices are stored in 'skb.get_support',\n",
    "# create a tuple of feature names, scores and pvalues, name it \"features_selected_tuple\"\n",
    "features_selected_tuple=[(features_list1[i+1], feature_scores[i], \n",
    "                          feature_scores_pvalues[i]) for i in skb.get_support(indices=True)]\n",
    "\n",
    "# Sort the tuple by score, in reverse order\n",
    "features_selected_tuple = sorted(features_selected_tuple, key=lambda feature: float(feature[1]) , reverse=True)\n",
    "\n",
    "# Print\n",
    "print ' '\n",
    "print 'Selected Features, Scores, P-Values'\n",
    "print features_selected_tuple"
   ]
  },
  {
   "cell_type": "code",
   "execution_count": 3,
   "metadata": {
    "collapsed": true
   },
   "outputs": [],
   "source": [
    "# fist try with full feature set\n",
    "\n",
    "### Store to my_dataset for easy export below.\n",
    "my_dataset1 = data_dict1\n",
    "\n",
    "### Extract features and labels from dataset for local testing\n",
    "data1 = featureFormat(my_dataset1, features_list1, sort_keys = True)\n",
    "labels, features = targetFeatureSplit(data1)\n"
   ]
  },
  {
   "cell_type": "code",
   "execution_count": 4,
   "metadata": {
    "collapsed": false
   },
   "outputs": [
    {
     "name": "stdout",
     "output_type": "stream",
     "text": [
      "GaussianNB(priors=None)\n",
      "\tAccuracy: 0.37680\tPrecision: 0.15912\tRecall: 0.85750\tF1: 0.26843\tF2: 0.45665\n",
      "\tTotal predictions: 15000\tTrue positives: 1715\tFalse positives: 9063\tFalse negatives:  285\tTrue negatives: 3937\n",
      "\n"
     ]
    }
   ],
   "source": [
    "### Task 4: Trying variety of classifiers\n",
    "\n",
    "from tester import main #import scripts from tester.py\n",
    "\n",
    "'''\n",
    "    running main() fom tester.py tests the classifier using cross fold validation (1000 folds)\n",
    "    uses StratifiedShuffleSplit() from sklearn.cross_validation\n",
    "    since our dataset is small and unbalanced (many more non-POIs than POIs, )\n",
    "    The performance measure reported by k-fold cross-validation is then the average \n",
    "    of the values computed in the loop.\n",
    "'''\n",
    "\n",
    "# Naive Bayes\n",
    "\n",
    "from sklearn.naive_bayes import GaussianNB\n",
    "clf = GaussianNB()\n",
    "dump_classifier_and_data(clf, my_dataset1, features_list1)\n",
    "main()"
   ]
  },
  {
   "cell_type": "code",
   "execution_count": 5,
   "metadata": {
    "collapsed": false
   },
   "outputs": [
    {
     "name": "stdout",
     "output_type": "stream",
     "text": [
      "DecisionTreeClassifier(class_weight=None, criterion='gini', max_depth=None,\n",
      "            max_features=None, max_leaf_nodes=None,\n",
      "            min_impurity_split=1e-07, min_samples_leaf=1,\n",
      "            min_samples_split=2, min_weight_fraction_leaf=0.0,\n",
      "            presort=False, random_state=None, splitter='best')\n",
      "\tAccuracy: 0.78973\tPrecision: 0.23556\tRecall: 0.25700\tF1: 0.24582\tF2: 0.25241\n",
      "\tTotal predictions: 15000\tTrue positives:  514\tFalse positives: 1668\tFalse negatives: 1486\tTrue negatives: 11332\n",
      "\n"
     ]
    }
   ],
   "source": [
    "from sklearn import tree\n",
    "clf = tree.DecisionTreeClassifier(min_samples_split=2)\n",
    "dump_classifier_and_data(clf, my_dataset1, features_list1)\n",
    "main()"
   ]
  },
  {
   "cell_type": "code",
   "execution_count": 6,
   "metadata": {
    "collapsed": false
   },
   "outputs": [
    {
     "name": "stdout",
     "output_type": "stream",
     "text": [
      "RandomForestClassifier(bootstrap=True, class_weight=None, criterion='gini',\n",
      "            max_depth=None, max_features='auto', max_leaf_nodes=None,\n",
      "            min_impurity_split=1e-07, min_samples_leaf=1,\n",
      "            min_samples_split=2, min_weight_fraction_leaf=0.0,\n",
      "            n_estimators=5, n_jobs=1, oob_score=False, random_state=None,\n",
      "            verbose=0, warm_start=False)\n",
      "\tAccuracy: 0.84487\tPrecision: 0.35893\tRecall: 0.20800\tF1: 0.26337\tF2: 0.22710\n",
      "\tTotal predictions: 15000\tTrue positives:  416\tFalse positives:  743\tFalse negatives: 1584\tTrue negatives: 12257\n",
      "\n"
     ]
    }
   ],
   "source": [
    "from sklearn.ensemble import RandomForestClassifier\n",
    "clf = RandomForestClassifier(n_estimators=5)\n",
    "# note that n_estmiators is the number of trees in the forest\n",
    "dump_classifier_and_data(clf, my_dataset1, features_list1)\n",
    "main()"
   ]
  },
  {
   "cell_type": "code",
   "execution_count": 7,
   "metadata": {
    "collapsed": true
   },
   "outputs": [],
   "source": [
    "# reduce features manually to those with p-values < .01 from SelectKBest\n",
    "features_list1 = ['poi', 'bonus', 'salary', 'payments_plus_stock', 'shared_receipt_with_poi', 'total_stock_value', \n",
    "                  'exercised_stock_options', 'total_payments','deferred_income', 'restricted_stock', \n",
    "                  'long_term_incentive']\n"
   ]
  },
  {
   "cell_type": "code",
   "execution_count": 8,
   "metadata": {
    "collapsed": true
   },
   "outputs": [],
   "source": [
    "### Store to my_dataset for easy export below.\n",
    "my_dataset1 = data_dict1\n",
    "\n",
    "### Extract features and labels from dataset for local testing\n",
    "data1 = featureFormat(my_dataset1, features_list1, sort_keys = True)\n",
    "labels, features = targetFeatureSplit(data1)"
   ]
  },
  {
   "cell_type": "code",
   "execution_count": 9,
   "metadata": {
    "collapsed": false
   },
   "outputs": [
    {
     "name": "stdout",
     "output_type": "stream",
     "text": [
      "GaussianNB(priors=None)\n",
      "\tAccuracy: 0.84380\tPrecision: 0.40058\tRecall: 0.34550\tF1: 0.37101\tF2: 0.35527\n",
      "\tTotal predictions: 15000\tTrue positives:  691\tFalse positives: 1034\tFalse negatives: 1309\tTrue negatives: 11966\n",
      "\n"
     ]
    }
   ],
   "source": [
    "# try NB again\n",
    "clf = GaussianNB()\n",
    "dump_classifier_and_data(clf, my_dataset1, features_list1)\n",
    "main()\n"
   ]
  },
  {
   "cell_type": "code",
   "execution_count": 10,
   "metadata": {
    "collapsed": false
   },
   "outputs": [
    {
     "name": "stdout",
     "output_type": "stream",
     "text": [
      "DecisionTreeClassifier(class_weight=None, criterion='gini', max_depth=None,\n",
      "            max_features=None, max_leaf_nodes=None,\n",
      "            min_impurity_split=1e-07, min_samples_leaf=1,\n",
      "            min_samples_split=2, min_weight_fraction_leaf=0.0,\n",
      "            presort=False, random_state=None, splitter='best')\n",
      "\tAccuracy: 0.80813\tPrecision: 0.27648\tRecall: 0.27150\tF1: 0.27397\tF2: 0.27248\n",
      "\tTotal predictions: 15000\tTrue positives:  543\tFalse positives: 1421\tFalse negatives: 1457\tTrue negatives: 11579\n",
      "\n"
     ]
    }
   ],
   "source": [
    "# decision tree\n",
    "clf = tree.DecisionTreeClassifier(min_samples_split=2)\n",
    "dump_classifier_and_data(clf, my_dataset1, features_list1)\n",
    "main()\n"
   ]
  },
  {
   "cell_type": "code",
   "execution_count": 11,
   "metadata": {
    "collapsed": false
   },
   "outputs": [
    {
     "name": "stdout",
     "output_type": "stream",
     "text": [
      "RandomForestClassifier(bootstrap=True, class_weight=None, criterion='gini',\n",
      "            max_depth=None, max_features='auto', max_leaf_nodes=None,\n",
      "            min_impurity_split=1e-07, min_samples_leaf=1,\n",
      "            min_samples_split=2, min_weight_fraction_leaf=0.0,\n",
      "            n_estimators=5, n_jobs=1, oob_score=False, random_state=None,\n",
      "            verbose=0, warm_start=False)\n",
      "\tAccuracy: 0.84473\tPrecision: 0.36892\tRecall: 0.23150\tF1: 0.28449\tF2: 0.25014\n",
      "\tTotal predictions: 15000\tTrue positives:  463\tFalse positives:  792\tFalse negatives: 1537\tTrue negatives: 12208\n",
      "\n"
     ]
    }
   ],
   "source": [
    "#try randomforest\n",
    "clf = RandomForestClassifier(n_estimators=5)\n",
    "# note that n_estmiators is the number of trees in the forest\n",
    "dump_classifier_and_data(clf, my_dataset1, features_list1)\n",
    "main()"
   ]
  },
  {
   "cell_type": "code",
   "execution_count": 12,
   "metadata": {
    "collapsed": false
   },
   "outputs": [
    {
     "name": "stdout",
     "output_type": "stream",
     "text": [
      "RandomForestClassifier(bootstrap=True, class_weight=None, criterion='gini',\n",
      "            max_depth=None, max_features='auto', max_leaf_nodes=None,\n",
      "            min_impurity_split=1e-07, min_samples_leaf=1,\n",
      "            min_samples_split=2, min_weight_fraction_leaf=0.0,\n",
      "            n_estimators=10, n_jobs=1, oob_score=False, random_state=None,\n",
      "            verbose=0, warm_start=False)\n",
      "\tAccuracy: 0.85447\tPrecision: 0.38432\tRecall: 0.15200\tF1: 0.21784\tF2: 0.17290\n",
      "\tTotal predictions: 15000\tTrue positives:  304\tFalse positives:  487\tFalse negatives: 1696\tTrue negatives: 12513\n",
      "\n"
     ]
    }
   ],
   "source": [
    "clf = RandomForestClassifier(n_estimators=10)\n",
    "dump_classifier_and_data(clf, my_dataset1, features_list1)\n",
    "main()"
   ]
  },
  {
   "cell_type": "code",
   "execution_count": 13,
   "metadata": {
    "collapsed": false
   },
   "outputs": [
    {
     "name": "stdout",
     "output_type": "stream",
     "text": [
      "RandomForestClassifier(bootstrap=True, class_weight=None, criterion='gini',\n",
      "            max_depth=None, max_features='auto', max_leaf_nodes=None,\n",
      "            min_impurity_split=1e-07, min_samples_leaf=1,\n",
      "            min_samples_split=2, min_weight_fraction_leaf=0.0,\n",
      "            n_estimators=15, n_jobs=1, oob_score=False, random_state=None,\n",
      "            verbose=0, warm_start=False)\n",
      "\tAccuracy: 0.85533\tPrecision: 0.41053\tRecall: 0.19500\tF1: 0.26441\tF2: 0.21788\n",
      "\tTotal predictions: 15000\tTrue positives:  390\tFalse positives:  560\tFalse negatives: 1610\tTrue negatives: 12440\n",
      "\n"
     ]
    }
   ],
   "source": [
    "clf = RandomForestClassifier(n_estimators=15)\n",
    "dump_classifier_and_data(clf, my_dataset1, features_list1)\n",
    "main()"
   ]
  },
  {
   "cell_type": "code",
   "execution_count": 14,
   "metadata": {
    "collapsed": true
   },
   "outputs": [],
   "source": [
    "#manually reduce feature set further to 2 features\n",
    "\n",
    "features_list1 = ['poi', 'bonus', 'salary']\n",
    "\n",
    "### Store to my_dataset for easy export below.\n",
    "my_dataset1 = data_dict1\n",
    "\n",
    "### Extract features and labels from dataset for local testing\n",
    "data1 = featureFormat(my_dataset1, features_list1, sort_keys = True)\n",
    "labels, features = targetFeatureSplit(data1)\n"
   ]
  },
  {
   "cell_type": "code",
   "execution_count": 15,
   "metadata": {
    "collapsed": false
   },
   "outputs": [
    {
     "name": "stdout",
     "output_type": "stream",
     "text": [
      "RandomForestClassifier(bootstrap=True, class_weight=None, criterion='gini',\n",
      "            max_depth=None, max_features='auto', max_leaf_nodes=None,\n",
      "            min_impurity_split=1e-07, min_samples_leaf=1,\n",
      "            min_samples_split=2, min_weight_fraction_leaf=0.0,\n",
      "            n_estimators=15, n_jobs=1, oob_score=False, random_state=None,\n",
      "            verbose=0, warm_start=False)\n",
      "\tAccuracy: 0.74510\tPrecision: 0.29949\tRecall: 0.20500\tF1: 0.24340\tF2: 0.21881\n",
      "\tTotal predictions: 10000\tTrue positives:  410\tFalse positives:  959\tFalse negatives: 1590\tTrue negatives: 7041\n",
      "\n"
     ]
    }
   ],
   "source": [
    "clf = RandomForestClassifier(n_estimators=15)\n",
    "dump_classifier_and_data(clf, my_dataset1, features_list1)\n",
    "main()\n"
   ]
  },
  {
   "cell_type": "markdown",
   "metadata": {},
   "source": [
    "Interestingly, the model with the best performance of the ones tested thus far is the simple Gaussian Naive Bayes with default parameters. Even though that algorithm is hitting my desired benchmarks of .30 precision and .30 recall, more work can certainly be done to optimize and tune various algorithms for better performance.\n",
    "\n",
    "In this particular use-case, while accuracy is always important, I prioritize recall since that is the ratio of true positives to all positives. That is, it is the algorithm's ability to pick up a POI if the person is indeed a POI. I would rather sacrifice precision for recall in this instance since our fraud detector would only be a first line of idenfification of possible fraud that could then be supplemented by in depth human investigation. In a way, I wish to algorithmically cast a wider net by incrasing recall. \n",
    "\n",
    "Next steps I would like to pursue:\n",
    "  * continue testing/tuning with Naive Bayes, Decision Tree, and RandomForest parameters to boost recall\n",
    "  * learn how to visualize classificaiton outputs (decision surface splits, etc)\n",
    "  * test using feature scaling and Principal Components Analysis (PCA) on Naive Bayes\n",
    "  * implement a pipeline to better automate workflow and prevent risk of information leakage\n",
    "  * test using GridsearchCV to systematically seek optimum features\n"
   ]
  },
  {
   "cell_type": "code",
   "execution_count": 16,
   "metadata": {
    "collapsed": true
   },
   "outputs": [],
   "source": [
    "# go back to original dataset minus obvious ones to omit\n",
    "\n",
    "features_list1 = ['poi', 'salary', 'deferral_payments', 'total_payments', 'bonus', 'director_fees', 'other',\n",
    "                 'deferred_income', 'total_stock_value', 'exercised_stock_options','restricted_stock_deferred',\n",
    "                 'long_term_incentive', 'restricted_stock', 'director_fees', 'to_messages','from_messages', \n",
    "                 'from_poi_to_this_person', 'from_this_person_to_poi', 'shared_receipt_with_poi',\n",
    "                 'total_salary_ratio', 'payments_plus_stock']\n",
    "### Store to my_dataset for easy export below.\n",
    "my_dataset1 = data_dict1\n",
    "\n",
    "### Extract features and labels from dataset for local testing\n",
    "data1 = featureFormat(my_dataset1, features_list1, sort_keys = True)\n",
    "labels, features = targetFeatureSplit(data1)"
   ]
  },
  {
   "cell_type": "code",
   "execution_count": 17,
   "metadata": {
    "collapsed": false
   },
   "outputs": [],
   "source": [
    "# set up various pipeline objects\n",
    "from pprint import pprint\n",
    "from sklearn.model_selection import GridSearchCV # updated based on scikit-learn 0.18.1\n",
    "from sklearn.pipeline import Pipeline\n",
    "from sklearn import preprocessing\n",
    "from sklearn.preprocessing import Normalizer\n",
    "from sklearn.decomposition import PCA\n",
    "from datetime import datetime as dt\n",
    "\n",
    "\n",
    "kbest = SelectKBest(f_classif)\n",
    "pca = PCA()\n",
    "scaler = preprocessing.StandardScaler()\n",
    "clf_GNB = GaussianNB()\n",
    "\n",
    "# read that I should normalize before PCA so I put normalizer before PCA in pipeline\n",
    "# http://sebastianraschka.com/Articles/2014_about_feature_scaling.html\n",
    "\n",
    "pipe_nb = Pipeline(steps =[\n",
    "    ('kbest', kbest),\n",
    "    ('std_scale', scaler),    \n",
    "    ('PCA', pca),   \n",
    "    ('nb_clf', clf_GNB)    \n",
    "    ])\n",
    "\n",
    "parameters_nb = {\"PCA__n_components\":[1,2,3,4,5,6], \"PCA__whiten\": [True],\n",
    "              \"kbest__k\":[6,8,10,12,14,16,18,20]}\n",
    "\n"
   ]
  },
  {
   "cell_type": "code",
   "execution_count": 18,
   "metadata": {
    "collapsed": false
   },
   "outputs": [
    {
     "name": "stdout",
     "output_type": "stream",
     "text": [
      "\n",
      "Performing grid search...\n",
      "('pipeline:', ['kbest', 'std_scale', 'PCA', 'nb_clf'])\n",
      "parameters:\n",
      "Fitting 3 folds for each of 48 candidates, totalling 144 fits\n"
     ]
    },
    {
     "name": "stderr",
     "output_type": "stream",
     "text": [
      "[Parallel(n_jobs=-1)]: Done  49 tasks      | elapsed:    2.5s\n"
     ]
    },
    {
     "name": "stdout",
     "output_type": "stream",
     "text": [
      "done in 0:00:04.293000\n",
      "\n",
      "\n",
      "Best score: 0.797\n",
      "\n",
      "Best parameters set:\n",
      "\tPCA__n_components: 4\n",
      "\tPCA__whiten: True\n",
      "\tkbest__k: 12\n"
     ]
    },
    {
     "name": "stderr",
     "output_type": "stream",
     "text": [
      "[Parallel(n_jobs=-1)]: Done 137 out of 144 | elapsed:    3.8s remaining:    0.1s\n",
      "[Parallel(n_jobs=-1)]: Done 144 out of 144 | elapsed:    3.9s finished\n"
     ]
    }
   ],
   "source": [
    "# use pipeline in GridSearchCV\n",
    "\n",
    "if __name__ == \"__main__\":\n",
    "    \n",
    "    # initialize grid search\n",
    "    grid_search = GridSearchCV(pipe_nb, parameters_nb, n_jobs = -1, verbose = 1, scoring = \"roc_auc\")\n",
    " \n",
    "    print(\"\\nPerforming grid search...\")\n",
    "    print(\"pipeline:\", [name for name, _ in pipe_nb.steps])\n",
    "    print(\"parameters:\")\n",
    "    #pprint(parameters)\n",
    "    t0 = dt.now()\n",
    "    grid_search.fit(features_train, labels_train)\n",
    "    print(\"done in {}\\n\".format(dt.now() - t0))\n",
    "    print(\"\\nBest score: {:0.3f}\".format(grid_search.best_score_))\n",
    "    print(\"\\nBest parameters set:\")\n",
    "    best_parameters = grid_search.best_estimator_.get_params()\n",
    "    for param_name in sorted(parameters_nb.keys()):\n",
    "        print(\"\\t{}: {}\".format(param_name, best_parameters[param_name]))"
   ]
  },
  {
   "cell_type": "code",
   "execution_count": 19,
   "metadata": {
    "collapsed": false
   },
   "outputs": [],
   "source": [
    "features_selected_bool = grid_search.best_estimator_.named_steps['kbest'].get_support()\n",
    "features_selected_list = [x for x, y in zip(features_list1[1:], features_selected_bool) if y]"
   ]
  },
  {
   "cell_type": "code",
   "execution_count": 20,
   "metadata": {
    "collapsed": false
   },
   "outputs": [
    {
     "data": {
      "text/plain": [
       "['salary',\n",
       " 'total_payments',\n",
       " 'bonus',\n",
       " 'other',\n",
       " 'deferred_income',\n",
       " 'total_stock_value',\n",
       " 'exercised_stock_options',\n",
       " 'long_term_incentive',\n",
       " 'restricted_stock',\n",
       " 'from_poi_to_this_person',\n",
       " 'shared_receipt_with_poi',\n",
       " 'payments_plus_stock']"
      ]
     },
     "execution_count": 20,
     "metadata": {},
     "output_type": "execute_result"
    }
   ],
   "source": [
    "features_selected_list"
   ]
  },
  {
   "cell_type": "code",
   "execution_count": 21,
   "metadata": {
    "collapsed": true
   },
   "outputs": [],
   "source": [
    "best_clf = grid_search.best_estimator_.fit(features_train, labels_train)"
   ]
  },
  {
   "cell_type": "code",
   "execution_count": 22,
   "metadata": {
    "collapsed": false
   },
   "outputs": [
    {
     "name": "stdout",
     "output_type": "stream",
     "text": [
      "['poi',\n",
      " 'salary',\n",
      " 'total_payments',\n",
      " 'bonus',\n",
      " 'other',\n",
      " 'deferred_income',\n",
      " 'total_stock_value',\n",
      " 'exercised_stock_options',\n",
      " 'long_term_incentive',\n",
      " 'restricted_stock',\n",
      " 'from_poi_to_this_person',\n",
      " 'shared_receipt_with_poi',\n",
      " 'payments_plus_stock']\n",
      "Pipeline(steps=[('kbest', SelectKBest(k=12, score_func=<function f_classif at 0x0000000003EA67B8>)), ('std_scale', StandardScaler(copy=True, with_mean=True, with_std=True)), ('PCA', PCA(copy=True, iterated_power='auto', n_components=4, random_state=None,\n",
      "  svd_solver='auto', tol=0.0, whiten=True)), ('nb_clf', GaussianNB(priors=None))])\n",
      "\tAccuracy: 0.84893\tPrecision: 0.42231\tRecall: 0.36150\tF1: 0.38955\tF2: 0.37222\n",
      "\tTotal predictions: 15000\tTrue positives:  723\tFalse positives:  989\tFalse negatives: 1277\tTrue negatives: 12011\n",
      "\n"
     ]
    }
   ],
   "source": [
    "### Load the dictionary containing the dataset\n",
    "with open(\"final_project_dataset.pkl\", \"r\") as data_file:\n",
    "    data_dict1 = pickle.load(data_file)\n",
    "\n",
    "    \n",
    "    \n",
    "### Task 2: Remove outlier identified from earlier visualizatoin\n",
    "data_dict1.pop('TOTAL')\n",
    "data_dict1.pop('THE TRAVEL AGENCY IN THE PARK')\n",
    "\n",
    "\n",
    "# add custom features\n",
    "for name in data_dict1:\n",
    "    if data_dict1[name]['total_payments'] != 'NaN' and data_dict1[name]['salary'] != 'NaN':\n",
    "        data_dict1[name]['total_salary_ratio'] = (data_dict1[name]['total_payments']*1./data_dict1[name]['salary'])\n",
    "    else:\n",
    "        data_dict1[name]['total_salary_ratio'] = 'NaN'\n",
    "    if data_dict1[name]['total_payments'] != 'NaN' and data_dict1[name]['total_stock_value'] != 'NaN':\n",
    "        data_dict1[name]['payments_plus_stock'] = data_dict1[name]['total_payments'] \\\n",
    "        + data_dict1[name]['total_stock_value']\n",
    "    else:\n",
    "        data_dict1[name]['payments_plus_stock'] = 'NaN'\n",
    "\n",
    "### Store to my_dataset for easy export below.\n",
    "my_dataset1 = data_dict1\n",
    "         \n",
    "\n",
    "### Extract features and labels from dataset for local testing (use features_selected_list)\n",
    "from pprint import pprint\n",
    "# due to featureFormat() need to add 'poi' as first feature of the list\n",
    "# https://discussions.udacity.com/t/valueerror-the-least-populated-class-in-y-has-only-1-member-which-is-too-few/44984/2\n",
    "poi_first = ['poi']\n",
    "features_selected_list = poi_first + features_selected_list\n",
    "data1 = featureFormat(my_dataset1, features_selected_list, sort_keys = True)\n",
    "labels, features = targetFeatureSplit(data1)\n",
    "pprint(features_selected_list)\n",
    "# pprint(labels)\n",
    "# labels are now all 0.0 and 1.0 as they should be after including POI first\n",
    "dump_classifier_and_data(best_clf, my_dataset1, features_selected_list)\n",
    "main()"
   ]
  },
  {
   "cell_type": "markdown",
   "metadata": {
    "collapsed": true
   },
   "source": [
    "Using SelectKBest, Standard Scaler, PCA, and Guassian NB in a pipeline was able to yield an accuracy of .849, precision of .422, and recall of .362.\n",
    "\n",
    "In order to understand better, I need to determine if I can visualize or output the predicitons of the parameter space.\n",
    "\n",
    "Then, I think I should feed another algorithm into a pipeline or gridsearch and try again to see if I can beat my previous score.\n"
   ]
  },
  {
   "cell_type": "code",
   "execution_count": 23,
   "metadata": {
    "collapsed": false
   },
   "outputs": [],
   "source": [
    "#http://scikit-learn.org/stable/modules/generated/sklearn.model_selection.GridSearchCV.html\n",
    "model_params = grid_search.cv_results_"
   ]
  },
  {
   "cell_type": "code",
   "execution_count": 24,
   "metadata": {
    "collapsed": false
   },
   "outputs": [
    {
     "name": "stderr",
     "output_type": "stream",
     "text": [
      "C:\\Users\\Scott\\Anaconda2\\lib\\site-packages\\ipykernel\\__main__.py:4: FutureWarning: sort(columns=....) is deprecated, use sort_values(by=.....)\n"
     ]
    },
    {
     "data": {
      "text/html": [
       "<div>\n",
       "<table border=\"1\" class=\"dataframe\">\n",
       "  <thead>\n",
       "    <tr style=\"text-align: right;\">\n",
       "      <th></th>\n",
       "      <th>mean_fit_time</th>\n",
       "      <th>mean_score_time</th>\n",
       "      <th>mean_test_score</th>\n",
       "      <th>mean_train_score</th>\n",
       "      <th>param_PCA__n_components</th>\n",
       "      <th>param_PCA__whiten</th>\n",
       "      <th>param_kbest__k</th>\n",
       "      <th>params</th>\n",
       "      <th>rank_test_score</th>\n",
       "    </tr>\n",
       "  </thead>\n",
       "  <tbody>\n",
       "    <tr>\n",
       "      <th>27</th>\n",
       "      <td>0.003000</td>\n",
       "      <td>0.001333</td>\n",
       "      <td>0.797406</td>\n",
       "      <td>0.812257</td>\n",
       "      <td>4</td>\n",
       "      <td>True</td>\n",
       "      <td>12</td>\n",
       "      <td>{u'PCA__n_components': 4, u'kbest__k': 12, u'P...</td>\n",
       "      <td>1</td>\n",
       "    </tr>\n",
       "    <tr>\n",
       "      <th>35</th>\n",
       "      <td>0.002667</td>\n",
       "      <td>0.001333</td>\n",
       "      <td>0.776758</td>\n",
       "      <td>0.782152</td>\n",
       "      <td>5</td>\n",
       "      <td>True</td>\n",
       "      <td>12</td>\n",
       "      <td>{u'PCA__n_components': 5, u'kbest__k': 12, u'P...</td>\n",
       "      <td>2</td>\n",
       "    </tr>\n",
       "    <tr>\n",
       "      <th>42</th>\n",
       "      <td>0.002667</td>\n",
       "      <td>0.001667</td>\n",
       "      <td>0.772774</td>\n",
       "      <td>0.793918</td>\n",
       "      <td>6</td>\n",
       "      <td>True</td>\n",
       "      <td>10</td>\n",
       "      <td>{u'PCA__n_components': 6, u'kbest__k': 10, u'P...</td>\n",
       "      <td>3</td>\n",
       "    </tr>\n",
       "    <tr>\n",
       "      <th>11</th>\n",
       "      <td>0.003000</td>\n",
       "      <td>0.001667</td>\n",
       "      <td>0.769393</td>\n",
       "      <td>0.800201</td>\n",
       "      <td>2</td>\n",
       "      <td>True</td>\n",
       "      <td>12</td>\n",
       "      <td>{u'PCA__n_components': 2, u'kbest__k': 12, u'P...</td>\n",
       "      <td>4</td>\n",
       "    </tr>\n",
       "    <tr>\n",
       "      <th>26</th>\n",
       "      <td>0.003000</td>\n",
       "      <td>0.001000</td>\n",
       "      <td>0.766094</td>\n",
       "      <td>0.788511</td>\n",
       "      <td>4</td>\n",
       "      <td>True</td>\n",
       "      <td>10</td>\n",
       "      <td>{u'PCA__n_components': 4, u'kbest__k': 10, u'P...</td>\n",
       "      <td>5</td>\n",
       "    </tr>\n",
       "    <tr>\n",
       "      <th>23</th>\n",
       "      <td>0.003333</td>\n",
       "      <td>0.001333</td>\n",
       "      <td>0.762599</td>\n",
       "      <td>0.828608</td>\n",
       "      <td>3</td>\n",
       "      <td>True</td>\n",
       "      <td>20</td>\n",
       "      <td>{u'PCA__n_components': 3, u'kbest__k': 20, u'P...</td>\n",
       "      <td>6</td>\n",
       "    </tr>\n",
       "    <tr>\n",
       "      <th>43</th>\n",
       "      <td>0.003000</td>\n",
       "      <td>0.001000</td>\n",
       "      <td>0.762126</td>\n",
       "      <td>0.783814</td>\n",
       "      <td>6</td>\n",
       "      <td>True</td>\n",
       "      <td>12</td>\n",
       "      <td>{u'PCA__n_components': 6, u'kbest__k': 12, u'P...</td>\n",
       "      <td>7</td>\n",
       "    </tr>\n",
       "    <tr>\n",
       "      <th>19</th>\n",
       "      <td>0.006000</td>\n",
       "      <td>0.000333</td>\n",
       "      <td>0.754753</td>\n",
       "      <td>0.821265</td>\n",
       "      <td>3</td>\n",
       "      <td>True</td>\n",
       "      <td>12</td>\n",
       "      <td>{u'PCA__n_components': 3, u'kbest__k': 12, u'P...</td>\n",
       "      <td>8</td>\n",
       "    </tr>\n",
       "    <tr>\n",
       "      <th>12</th>\n",
       "      <td>0.003667</td>\n",
       "      <td>0.001000</td>\n",
       "      <td>0.754045</td>\n",
       "      <td>0.788882</td>\n",
       "      <td>2</td>\n",
       "      <td>True</td>\n",
       "      <td>14</td>\n",
       "      <td>{u'PCA__n_components': 2, u'kbest__k': 14, u'P...</td>\n",
       "      <td>9</td>\n",
       "    </tr>\n",
       "    <tr>\n",
       "      <th>34</th>\n",
       "      <td>0.002667</td>\n",
       "      <td>0.001333</td>\n",
       "      <td>0.752802</td>\n",
       "      <td>0.774794</td>\n",
       "      <td>5</td>\n",
       "      <td>True</td>\n",
       "      <td>10</td>\n",
       "      <td>{u'PCA__n_components': 5, u'kbest__k': 10, u'P...</td>\n",
       "      <td>10</td>\n",
       "    </tr>\n",
       "    <tr>\n",
       "      <th>3</th>\n",
       "      <td>0.003000</td>\n",
       "      <td>0.001333</td>\n",
       "      <td>0.749438</td>\n",
       "      <td>0.765702</td>\n",
       "      <td>1</td>\n",
       "      <td>True</td>\n",
       "      <td>12</td>\n",
       "      <td>{u'PCA__n_components': 1, u'kbest__k': 12, u'P...</td>\n",
       "      <td>11</td>\n",
       "    </tr>\n",
       "    <tr>\n",
       "      <th>4</th>\n",
       "      <td>0.003000</td>\n",
       "      <td>0.001333</td>\n",
       "      <td>0.749417</td>\n",
       "      <td>0.775455</td>\n",
       "      <td>1</td>\n",
       "      <td>True</td>\n",
       "      <td>14</td>\n",
       "      <td>{u'PCA__n_components': 1, u'kbest__k': 14, u'P...</td>\n",
       "      <td>12</td>\n",
       "    </tr>\n",
       "    <tr>\n",
       "      <th>22</th>\n",
       "      <td>0.003333</td>\n",
       "      <td>0.001667</td>\n",
       "      <td>0.742558</td>\n",
       "      <td>0.824672</td>\n",
       "      <td>3</td>\n",
       "      <td>True</td>\n",
       "      <td>18</td>\n",
       "      <td>{u'PCA__n_components': 3, u'kbest__k': 18, u'P...</td>\n",
       "      <td>13</td>\n",
       "    </tr>\n",
       "    <tr>\n",
       "      <th>15</th>\n",
       "      <td>0.003000</td>\n",
       "      <td>0.001667</td>\n",
       "      <td>0.740077</td>\n",
       "      <td>0.764100</td>\n",
       "      <td>2</td>\n",
       "      <td>True</td>\n",
       "      <td>20</td>\n",
       "      <td>{u'PCA__n_components': 2, u'kbest__k': 20, u'P...</td>\n",
       "      <td>14</td>\n",
       "    </tr>\n",
       "    <tr>\n",
       "      <th>18</th>\n",
       "      <td>0.000000</td>\n",
       "      <td>0.000000</td>\n",
       "      <td>0.738786</td>\n",
       "      <td>0.799898</td>\n",
       "      <td>3</td>\n",
       "      <td>True</td>\n",
       "      <td>10</td>\n",
       "      <td>{u'PCA__n_components': 3, u'kbest__k': 10, u'P...</td>\n",
       "      <td>15</td>\n",
       "    </tr>\n",
       "    <tr>\n",
       "      <th>14</th>\n",
       "      <td>0.003333</td>\n",
       "      <td>0.001333</td>\n",
       "      <td>0.737393</td>\n",
       "      <td>0.758813</td>\n",
       "      <td>2</td>\n",
       "      <td>True</td>\n",
       "      <td>18</td>\n",
       "      <td>{u'PCA__n_components': 2, u'kbest__k': 18, u'P...</td>\n",
       "      <td>16</td>\n",
       "    </tr>\n",
       "    <tr>\n",
       "      <th>21</th>\n",
       "      <td>0.006000</td>\n",
       "      <td>0.002333</td>\n",
       "      <td>0.737234</td>\n",
       "      <td>0.821699</td>\n",
       "      <td>3</td>\n",
       "      <td>True</td>\n",
       "      <td>16</td>\n",
       "      <td>{u'PCA__n_components': 3, u'kbest__k': 16, u'P...</td>\n",
       "      <td>17</td>\n",
       "    </tr>\n",
       "    <tr>\n",
       "      <th>44</th>\n",
       "      <td>0.002667</td>\n",
       "      <td>0.001667</td>\n",
       "      <td>0.736077</td>\n",
       "      <td>0.784842</td>\n",
       "      <td>6</td>\n",
       "      <td>True</td>\n",
       "      <td>14</td>\n",
       "      <td>{u'PCA__n_components': 6, u'kbest__k': 14, u'P...</td>\n",
       "      <td>18</td>\n",
       "    </tr>\n",
       "    <tr>\n",
       "      <th>17</th>\n",
       "      <td>0.005333</td>\n",
       "      <td>0.005333</td>\n",
       "      <td>0.735421</td>\n",
       "      <td>0.779830</td>\n",
       "      <td>3</td>\n",
       "      <td>True</td>\n",
       "      <td>8</td>\n",
       "      <td>{u'PCA__n_components': 3, u'kbest__k': 8, u'PC...</td>\n",
       "      <td>19</td>\n",
       "    </tr>\n",
       "    <tr>\n",
       "      <th>41</th>\n",
       "      <td>0.003000</td>\n",
       "      <td>0.001333</td>\n",
       "      <td>0.734771</td>\n",
       "      <td>0.748466</td>\n",
       "      <td>6</td>\n",
       "      <td>True</td>\n",
       "      <td>8</td>\n",
       "      <td>{u'PCA__n_components': 6, u'kbest__k': 8, u'PC...</td>\n",
       "      <td>20</td>\n",
       "    </tr>\n",
       "    <tr>\n",
       "      <th>36</th>\n",
       "      <td>0.003333</td>\n",
       "      <td>0.001333</td>\n",
       "      <td>0.734065</td>\n",
       "      <td>0.795623</td>\n",
       "      <td>5</td>\n",
       "      <td>True</td>\n",
       "      <td>14</td>\n",
       "      <td>{u'PCA__n_components': 5, u'kbest__k': 14, u'P...</td>\n",
       "      <td>21</td>\n",
       "    </tr>\n",
       "    <tr>\n",
       "      <th>25</th>\n",
       "      <td>0.003000</td>\n",
       "      <td>0.001000</td>\n",
       "      <td>0.731449</td>\n",
       "      <td>0.756132</td>\n",
       "      <td>4</td>\n",
       "      <td>True</td>\n",
       "      <td>8</td>\n",
       "      <td>{u'PCA__n_components': 4, u'kbest__k': 8, u'PC...</td>\n",
       "      <td>22</td>\n",
       "    </tr>\n",
       "    <tr>\n",
       "      <th>33</th>\n",
       "      <td>0.002667</td>\n",
       "      <td>0.001333</td>\n",
       "      <td>0.731441</td>\n",
       "      <td>0.750124</td>\n",
       "      <td>5</td>\n",
       "      <td>True</td>\n",
       "      <td>8</td>\n",
       "      <td>{u'PCA__n_components': 5, u'kbest__k': 8, u'PC...</td>\n",
       "      <td>23</td>\n",
       "    </tr>\n",
       "    <tr>\n",
       "      <th>13</th>\n",
       "      <td>0.003000</td>\n",
       "      <td>0.001000</td>\n",
       "      <td>0.731401</td>\n",
       "      <td>0.778881</td>\n",
       "      <td>2</td>\n",
       "      <td>True</td>\n",
       "      <td>16</td>\n",
       "      <td>{u'PCA__n_components': 2, u'kbest__k': 16, u'P...</td>\n",
       "      <td>24</td>\n",
       "    </tr>\n",
       "    <tr>\n",
       "      <th>31</th>\n",
       "      <td>0.003333</td>\n",
       "      <td>0.001333</td>\n",
       "      <td>0.727914</td>\n",
       "      <td>0.811986</td>\n",
       "      <td>4</td>\n",
       "      <td>True</td>\n",
       "      <td>20</td>\n",
       "      <td>{u'PCA__n_components': 4, u'kbest__k': 20, u'P...</td>\n",
       "      <td>25</td>\n",
       "    </tr>\n",
       "    <tr>\n",
       "      <th>45</th>\n",
       "      <td>0.003000</td>\n",
       "      <td>0.001333</td>\n",
       "      <td>0.725238</td>\n",
       "      <td>0.819006</td>\n",
       "      <td>6</td>\n",
       "      <td>True</td>\n",
       "      <td>16</td>\n",
       "      <td>{u'PCA__n_components': 6, u'kbest__k': 16, u'P...</td>\n",
       "      <td>26</td>\n",
       "    </tr>\n",
       "    <tr>\n",
       "      <th>10</th>\n",
       "      <td>0.003000</td>\n",
       "      <td>0.001667</td>\n",
       "      <td>0.721441</td>\n",
       "      <td>0.794523</td>\n",
       "      <td>2</td>\n",
       "      <td>True</td>\n",
       "      <td>10</td>\n",
       "      <td>{u'PCA__n_components': 2, u'kbest__k': 10, u'P...</td>\n",
       "      <td>27</td>\n",
       "    </tr>\n",
       "    <tr>\n",
       "      <th>9</th>\n",
       "      <td>0.003333</td>\n",
       "      <td>0.001000</td>\n",
       "      <td>0.720101</td>\n",
       "      <td>0.777184</td>\n",
       "      <td>2</td>\n",
       "      <td>True</td>\n",
       "      <td>8</td>\n",
       "      <td>{u'PCA__n_components': 2, u'kbest__k': 8, u'PC...</td>\n",
       "      <td>28</td>\n",
       "    </tr>\n",
       "    <tr>\n",
       "      <th>20</th>\n",
       "      <td>0.000000</td>\n",
       "      <td>0.010333</td>\n",
       "      <td>0.719417</td>\n",
       "      <td>0.787216</td>\n",
       "      <td>3</td>\n",
       "      <td>True</td>\n",
       "      <td>14</td>\n",
       "      <td>{u'PCA__n_components': 3, u'kbest__k': 14, u'P...</td>\n",
       "      <td>29</td>\n",
       "    </tr>\n",
       "    <tr>\n",
       "      <th>30</th>\n",
       "      <td>0.003000</td>\n",
       "      <td>0.001000</td>\n",
       "      <td>0.717246</td>\n",
       "      <td>0.821715</td>\n",
       "      <td>4</td>\n",
       "      <td>True</td>\n",
       "      <td>18</td>\n",
       "      <td>{u'PCA__n_components': 4, u'kbest__k': 18, u'P...</td>\n",
       "      <td>30</td>\n",
       "    </tr>\n",
       "    <tr>\n",
       "      <th>29</th>\n",
       "      <td>0.003000</td>\n",
       "      <td>0.001000</td>\n",
       "      <td>0.713254</td>\n",
       "      <td>0.823672</td>\n",
       "      <td>4</td>\n",
       "      <td>True</td>\n",
       "      <td>16</td>\n",
       "      <td>{u'PCA__n_components': 4, u'kbest__k': 16, u'P...</td>\n",
       "      <td>31</td>\n",
       "    </tr>\n",
       "    <tr>\n",
       "      <th>28</th>\n",
       "      <td>0.003000</td>\n",
       "      <td>0.001000</td>\n",
       "      <td>0.710753</td>\n",
       "      <td>0.797308</td>\n",
       "      <td>4</td>\n",
       "      <td>True</td>\n",
       "      <td>14</td>\n",
       "      <td>{u'PCA__n_components': 4, u'kbest__k': 14, u'P...</td>\n",
       "      <td>32</td>\n",
       "    </tr>\n",
       "    <tr>\n",
       "      <th>2</th>\n",
       "      <td>0.003000</td>\n",
       "      <td>0.001333</td>\n",
       "      <td>0.706818</td>\n",
       "      <td>0.731234</td>\n",
       "      <td>1</td>\n",
       "      <td>True</td>\n",
       "      <td>10</td>\n",
       "      <td>{u'PCA__n_components': 1, u'kbest__k': 10, u'P...</td>\n",
       "      <td>33</td>\n",
       "    </tr>\n",
       "    <tr>\n",
       "      <th>24</th>\n",
       "      <td>0.003000</td>\n",
       "      <td>0.001000</td>\n",
       "      <td>0.706028</td>\n",
       "      <td>0.739402</td>\n",
       "      <td>4</td>\n",
       "      <td>True</td>\n",
       "      <td>6</td>\n",
       "      <td>{u'PCA__n_components': 4, u'kbest__k': 6, u'PC...</td>\n",
       "      <td>34</td>\n",
       "    </tr>\n",
       "    <tr>\n",
       "      <th>37</th>\n",
       "      <td>0.003667</td>\n",
       "      <td>0.001333</td>\n",
       "      <td>0.701254</td>\n",
       "      <td>0.821345</td>\n",
       "      <td>5</td>\n",
       "      <td>True</td>\n",
       "      <td>16</td>\n",
       "      <td>{u'PCA__n_components': 5, u'kbest__k': 16, u'P...</td>\n",
       "      <td>35</td>\n",
       "    </tr>\n",
       "    <tr>\n",
       "      <th>1</th>\n",
       "      <td>0.006333</td>\n",
       "      <td>0.001667</td>\n",
       "      <td>0.697485</td>\n",
       "      <td>0.737645</td>\n",
       "      <td>1</td>\n",
       "      <td>True</td>\n",
       "      <td>8</td>\n",
       "      <td>{u'PCA__n_components': 1, u'kbest__k': 8, u'PC...</td>\n",
       "      <td>36</td>\n",
       "    </tr>\n",
       "    <tr>\n",
       "      <th>6</th>\n",
       "      <td>0.003000</td>\n",
       "      <td>0.001000</td>\n",
       "      <td>0.690647</td>\n",
       "      <td>0.765152</td>\n",
       "      <td>1</td>\n",
       "      <td>True</td>\n",
       "      <td>18</td>\n",
       "      <td>{u'PCA__n_components': 1, u'kbest__k': 18, u'P...</td>\n",
       "      <td>37</td>\n",
       "    </tr>\n",
       "    <tr>\n",
       "      <th>5</th>\n",
       "      <td>0.003333</td>\n",
       "      <td>0.001000</td>\n",
       "      <td>0.685319</td>\n",
       "      <td>0.769479</td>\n",
       "      <td>1</td>\n",
       "      <td>True</td>\n",
       "      <td>16</td>\n",
       "      <td>{u'PCA__n_components': 1, u'kbest__k': 16, u'P...</td>\n",
       "      <td>38</td>\n",
       "    </tr>\n",
       "    <tr>\n",
       "      <th>8</th>\n",
       "      <td>0.002333</td>\n",
       "      <td>0.001667</td>\n",
       "      <td>0.681392</td>\n",
       "      <td>0.744183</td>\n",
       "      <td>2</td>\n",
       "      <td>True</td>\n",
       "      <td>6</td>\n",
       "      <td>{u'PCA__n_components': 2, u'kbest__k': 6, u'PC...</td>\n",
       "      <td>39</td>\n",
       "    </tr>\n",
       "    <tr>\n",
       "      <th>16</th>\n",
       "      <td>0.002667</td>\n",
       "      <td>0.001333</td>\n",
       "      <td>0.680712</td>\n",
       "      <td>0.785957</td>\n",
       "      <td>3</td>\n",
       "      <td>True</td>\n",
       "      <td>6</td>\n",
       "      <td>{u'PCA__n_components': 3, u'kbest__k': 6, u'PC...</td>\n",
       "      <td>40</td>\n",
       "    </tr>\n",
       "    <tr>\n",
       "      <th>7</th>\n",
       "      <td>0.003667</td>\n",
       "      <td>0.001000</td>\n",
       "      <td>0.673294</td>\n",
       "      <td>0.764781</td>\n",
       "      <td>1</td>\n",
       "      <td>True</td>\n",
       "      <td>20</td>\n",
       "      <td>{u'PCA__n_components': 1, u'kbest__k': 20, u'P...</td>\n",
       "      <td>41</td>\n",
       "    </tr>\n",
       "    <tr>\n",
       "      <th>0</th>\n",
       "      <td>0.030333</td>\n",
       "      <td>0.001667</td>\n",
       "      <td>0.660096</td>\n",
       "      <td>0.727366</td>\n",
       "      <td>1</td>\n",
       "      <td>True</td>\n",
       "      <td>6</td>\n",
       "      <td>{u'PCA__n_components': 1, u'kbest__k': 6, u'PC...</td>\n",
       "      <td>42</td>\n",
       "    </tr>\n",
       "    <tr>\n",
       "      <th>40</th>\n",
       "      <td>0.002333</td>\n",
       "      <td>0.001667</td>\n",
       "      <td>0.649310</td>\n",
       "      <td>0.770036</td>\n",
       "      <td>6</td>\n",
       "      <td>True</td>\n",
       "      <td>6</td>\n",
       "      <td>{u'PCA__n_components': 6, u'kbest__k': 6, u'PC...</td>\n",
       "      <td>43</td>\n",
       "    </tr>\n",
       "    <tr>\n",
       "      <th>39</th>\n",
       "      <td>0.003000</td>\n",
       "      <td>0.001667</td>\n",
       "      <td>0.638666</td>\n",
       "      <td>0.804695</td>\n",
       "      <td>5</td>\n",
       "      <td>True</td>\n",
       "      <td>20</td>\n",
       "      <td>{u'PCA__n_components': 5, u'kbest__k': 20, u'P...</td>\n",
       "      <td>44</td>\n",
       "    </tr>\n",
       "    <tr>\n",
       "      <th>47</th>\n",
       "      <td>0.003000</td>\n",
       "      <td>0.001333</td>\n",
       "      <td>0.636023</td>\n",
       "      <td>0.820978</td>\n",
       "      <td>6</td>\n",
       "      <td>True</td>\n",
       "      <td>20</td>\n",
       "      <td>{u'PCA__n_components': 6, u'kbest__k': 20, u'P...</td>\n",
       "      <td>45</td>\n",
       "    </tr>\n",
       "    <tr>\n",
       "      <th>32</th>\n",
       "      <td>0.003000</td>\n",
       "      <td>0.001000</td>\n",
       "      <td>0.630613</td>\n",
       "      <td>0.736721</td>\n",
       "      <td>5</td>\n",
       "      <td>True</td>\n",
       "      <td>6</td>\n",
       "      <td>{u'PCA__n_components': 5, u'kbest__k': 6, u'PC...</td>\n",
       "      <td>46</td>\n",
       "    </tr>\n",
       "    <tr>\n",
       "      <th>38</th>\n",
       "      <td>0.003000</td>\n",
       "      <td>0.001667</td>\n",
       "      <td>0.617338</td>\n",
       "      <td>0.822425</td>\n",
       "      <td>5</td>\n",
       "      <td>True</td>\n",
       "      <td>18</td>\n",
       "      <td>{u'PCA__n_components': 5, u'kbest__k': 18, u'P...</td>\n",
       "      <td>47</td>\n",
       "    </tr>\n",
       "    <tr>\n",
       "      <th>46</th>\n",
       "      <td>0.002667</td>\n",
       "      <td>0.001333</td>\n",
       "      <td>0.613334</td>\n",
       "      <td>0.824413</td>\n",
       "      <td>6</td>\n",
       "      <td>True</td>\n",
       "      <td>18</td>\n",
       "      <td>{u'PCA__n_components': 6, u'kbest__k': 18, u'P...</td>\n",
       "      <td>48</td>\n",
       "    </tr>\n",
       "  </tbody>\n",
       "</table>\n",
       "</div>"
      ],
      "text/plain": [
       "    mean_fit_time  mean_score_time  mean_test_score  mean_train_score  \\\n",
       "27       0.003000         0.001333         0.797406          0.812257   \n",
       "35       0.002667         0.001333         0.776758          0.782152   \n",
       "42       0.002667         0.001667         0.772774          0.793918   \n",
       "11       0.003000         0.001667         0.769393          0.800201   \n",
       "26       0.003000         0.001000         0.766094          0.788511   \n",
       "23       0.003333         0.001333         0.762599          0.828608   \n",
       "43       0.003000         0.001000         0.762126          0.783814   \n",
       "19       0.006000         0.000333         0.754753          0.821265   \n",
       "12       0.003667         0.001000         0.754045          0.788882   \n",
       "34       0.002667         0.001333         0.752802          0.774794   \n",
       "3        0.003000         0.001333         0.749438          0.765702   \n",
       "4        0.003000         0.001333         0.749417          0.775455   \n",
       "22       0.003333         0.001667         0.742558          0.824672   \n",
       "15       0.003000         0.001667         0.740077          0.764100   \n",
       "18       0.000000         0.000000         0.738786          0.799898   \n",
       "14       0.003333         0.001333         0.737393          0.758813   \n",
       "21       0.006000         0.002333         0.737234          0.821699   \n",
       "44       0.002667         0.001667         0.736077          0.784842   \n",
       "17       0.005333         0.005333         0.735421          0.779830   \n",
       "41       0.003000         0.001333         0.734771          0.748466   \n",
       "36       0.003333         0.001333         0.734065          0.795623   \n",
       "25       0.003000         0.001000         0.731449          0.756132   \n",
       "33       0.002667         0.001333         0.731441          0.750124   \n",
       "13       0.003000         0.001000         0.731401          0.778881   \n",
       "31       0.003333         0.001333         0.727914          0.811986   \n",
       "45       0.003000         0.001333         0.725238          0.819006   \n",
       "10       0.003000         0.001667         0.721441          0.794523   \n",
       "9        0.003333         0.001000         0.720101          0.777184   \n",
       "20       0.000000         0.010333         0.719417          0.787216   \n",
       "30       0.003000         0.001000         0.717246          0.821715   \n",
       "29       0.003000         0.001000         0.713254          0.823672   \n",
       "28       0.003000         0.001000         0.710753          0.797308   \n",
       "2        0.003000         0.001333         0.706818          0.731234   \n",
       "24       0.003000         0.001000         0.706028          0.739402   \n",
       "37       0.003667         0.001333         0.701254          0.821345   \n",
       "1        0.006333         0.001667         0.697485          0.737645   \n",
       "6        0.003000         0.001000         0.690647          0.765152   \n",
       "5        0.003333         0.001000         0.685319          0.769479   \n",
       "8        0.002333         0.001667         0.681392          0.744183   \n",
       "16       0.002667         0.001333         0.680712          0.785957   \n",
       "7        0.003667         0.001000         0.673294          0.764781   \n",
       "0        0.030333         0.001667         0.660096          0.727366   \n",
       "40       0.002333         0.001667         0.649310          0.770036   \n",
       "39       0.003000         0.001667         0.638666          0.804695   \n",
       "47       0.003000         0.001333         0.636023          0.820978   \n",
       "32       0.003000         0.001000         0.630613          0.736721   \n",
       "38       0.003000         0.001667         0.617338          0.822425   \n",
       "46       0.002667         0.001333         0.613334          0.824413   \n",
       "\n",
       "   param_PCA__n_components param_PCA__whiten param_kbest__k  \\\n",
       "27                       4              True             12   \n",
       "35                       5              True             12   \n",
       "42                       6              True             10   \n",
       "11                       2              True             12   \n",
       "26                       4              True             10   \n",
       "23                       3              True             20   \n",
       "43                       6              True             12   \n",
       "19                       3              True             12   \n",
       "12                       2              True             14   \n",
       "34                       5              True             10   \n",
       "3                        1              True             12   \n",
       "4                        1              True             14   \n",
       "22                       3              True             18   \n",
       "15                       2              True             20   \n",
       "18                       3              True             10   \n",
       "14                       2              True             18   \n",
       "21                       3              True             16   \n",
       "44                       6              True             14   \n",
       "17                       3              True              8   \n",
       "41                       6              True              8   \n",
       "36                       5              True             14   \n",
       "25                       4              True              8   \n",
       "33                       5              True              8   \n",
       "13                       2              True             16   \n",
       "31                       4              True             20   \n",
       "45                       6              True             16   \n",
       "10                       2              True             10   \n",
       "9                        2              True              8   \n",
       "20                       3              True             14   \n",
       "30                       4              True             18   \n",
       "29                       4              True             16   \n",
       "28                       4              True             14   \n",
       "2                        1              True             10   \n",
       "24                       4              True              6   \n",
       "37                       5              True             16   \n",
       "1                        1              True              8   \n",
       "6                        1              True             18   \n",
       "5                        1              True             16   \n",
       "8                        2              True              6   \n",
       "16                       3              True              6   \n",
       "7                        1              True             20   \n",
       "0                        1              True              6   \n",
       "40                       6              True              6   \n",
       "39                       5              True             20   \n",
       "47                       6              True             20   \n",
       "32                       5              True              6   \n",
       "38                       5              True             18   \n",
       "46                       6              True             18   \n",
       "\n",
       "                                               params  rank_test_score  \n",
       "27  {u'PCA__n_components': 4, u'kbest__k': 12, u'P...                1  \n",
       "35  {u'PCA__n_components': 5, u'kbest__k': 12, u'P...                2  \n",
       "42  {u'PCA__n_components': 6, u'kbest__k': 10, u'P...                3  \n",
       "11  {u'PCA__n_components': 2, u'kbest__k': 12, u'P...                4  \n",
       "26  {u'PCA__n_components': 4, u'kbest__k': 10, u'P...                5  \n",
       "23  {u'PCA__n_components': 3, u'kbest__k': 20, u'P...                6  \n",
       "43  {u'PCA__n_components': 6, u'kbest__k': 12, u'P...                7  \n",
       "19  {u'PCA__n_components': 3, u'kbest__k': 12, u'P...                8  \n",
       "12  {u'PCA__n_components': 2, u'kbest__k': 14, u'P...                9  \n",
       "34  {u'PCA__n_components': 5, u'kbest__k': 10, u'P...               10  \n",
       "3   {u'PCA__n_components': 1, u'kbest__k': 12, u'P...               11  \n",
       "4   {u'PCA__n_components': 1, u'kbest__k': 14, u'P...               12  \n",
       "22  {u'PCA__n_components': 3, u'kbest__k': 18, u'P...               13  \n",
       "15  {u'PCA__n_components': 2, u'kbest__k': 20, u'P...               14  \n",
       "18  {u'PCA__n_components': 3, u'kbest__k': 10, u'P...               15  \n",
       "14  {u'PCA__n_components': 2, u'kbest__k': 18, u'P...               16  \n",
       "21  {u'PCA__n_components': 3, u'kbest__k': 16, u'P...               17  \n",
       "44  {u'PCA__n_components': 6, u'kbest__k': 14, u'P...               18  \n",
       "17  {u'PCA__n_components': 3, u'kbest__k': 8, u'PC...               19  \n",
       "41  {u'PCA__n_components': 6, u'kbest__k': 8, u'PC...               20  \n",
       "36  {u'PCA__n_components': 5, u'kbest__k': 14, u'P...               21  \n",
       "25  {u'PCA__n_components': 4, u'kbest__k': 8, u'PC...               22  \n",
       "33  {u'PCA__n_components': 5, u'kbest__k': 8, u'PC...               23  \n",
       "13  {u'PCA__n_components': 2, u'kbest__k': 16, u'P...               24  \n",
       "31  {u'PCA__n_components': 4, u'kbest__k': 20, u'P...               25  \n",
       "45  {u'PCA__n_components': 6, u'kbest__k': 16, u'P...               26  \n",
       "10  {u'PCA__n_components': 2, u'kbest__k': 10, u'P...               27  \n",
       "9   {u'PCA__n_components': 2, u'kbest__k': 8, u'PC...               28  \n",
       "20  {u'PCA__n_components': 3, u'kbest__k': 14, u'P...               29  \n",
       "30  {u'PCA__n_components': 4, u'kbest__k': 18, u'P...               30  \n",
       "29  {u'PCA__n_components': 4, u'kbest__k': 16, u'P...               31  \n",
       "28  {u'PCA__n_components': 4, u'kbest__k': 14, u'P...               32  \n",
       "2   {u'PCA__n_components': 1, u'kbest__k': 10, u'P...               33  \n",
       "24  {u'PCA__n_components': 4, u'kbest__k': 6, u'PC...               34  \n",
       "37  {u'PCA__n_components': 5, u'kbest__k': 16, u'P...               35  \n",
       "1   {u'PCA__n_components': 1, u'kbest__k': 8, u'PC...               36  \n",
       "6   {u'PCA__n_components': 1, u'kbest__k': 18, u'P...               37  \n",
       "5   {u'PCA__n_components': 1, u'kbest__k': 16, u'P...               38  \n",
       "8   {u'PCA__n_components': 2, u'kbest__k': 6, u'PC...               39  \n",
       "16  {u'PCA__n_components': 3, u'kbest__k': 6, u'PC...               40  \n",
       "7   {u'PCA__n_components': 1, u'kbest__k': 20, u'P...               41  \n",
       "0   {u'PCA__n_components': 1, u'kbest__k': 6, u'PC...               42  \n",
       "40  {u'PCA__n_components': 6, u'kbest__k': 6, u'PC...               43  \n",
       "39  {u'PCA__n_components': 5, u'kbest__k': 20, u'P...               44  \n",
       "47  {u'PCA__n_components': 6, u'kbest__k': 20, u'P...               45  \n",
       "32  {u'PCA__n_components': 5, u'kbest__k': 6, u'PC...               46  \n",
       "38  {u'PCA__n_components': 5, u'kbest__k': 18, u'P...               47  \n",
       "46  {u'PCA__n_components': 6, u'kbest__k': 18, u'P...               48  "
      ]
     },
     "execution_count": 24,
     "metadata": {},
     "output_type": "execute_result"
    }
   ],
   "source": [
    "import pandas as pd\n",
    "\n",
    "models_df = pd.DataFrame.from_dict(model_params, orient = 'columns')\n",
    "models_df[models_df.columns[:9]].sort('mean_test_score',ascending = False)"
   ]
  },
  {
   "cell_type": "code",
   "execution_count": 25,
   "metadata": {
    "collapsed": false
   },
   "outputs": [
    {
     "name": "stderr",
     "output_type": "stream",
     "text": [
      "C:\\Users\\Scott\\Anaconda2\\lib\\site-packages\\ipykernel\\__main__.py:2: FutureWarning: sort(columns=....) is deprecated, use sort_values(by=.....)\n",
      "  from ipykernel import kernelapp as app\n"
     ]
    }
   ],
   "source": [
    "# save df of top 10 model permutations to html for plotting in write up \n",
    "plot_df = models_df[models_df.columns[2:9]].sort('mean_test_score',ascending = False)[:10].set_index('rank_test_score') \n",
    "plot_df.to_html('GSCV_.html')"
   ]
  },
  {
   "cell_type": "code",
   "execution_count": 26,
   "metadata": {
    "collapsed": false
   },
   "outputs": [
    {
     "name": "stdout",
     "output_type": "stream",
     "text": [
      "<class 'pandas.core.frame.DataFrame'>\n",
      "RangeIndex: 48 entries, 0 to 47\n",
      "Data columns (total 19 columns):\n",
      "mean_fit_time              48 non-null float64\n",
      "mean_score_time            48 non-null float64\n",
      "mean_test_score            48 non-null float64\n",
      "mean_train_score           48 non-null float64\n",
      "param_PCA__n_components    48 non-null object\n",
      "param_PCA__whiten          48 non-null object\n",
      "param_kbest__k             48 non-null object\n",
      "params                     48 non-null object\n",
      "rank_test_score            48 non-null int32\n",
      "split0_test_score          48 non-null float64\n",
      "split0_train_score         48 non-null float64\n",
      "split1_test_score          48 non-null float64\n",
      "split1_train_score         48 non-null float64\n",
      "split2_test_score          48 non-null float64\n",
      "split2_train_score         48 non-null float64\n",
      "std_fit_time               48 non-null float64\n",
      "std_score_time             48 non-null float64\n",
      "std_test_score             48 non-null float64\n",
      "std_train_score            48 non-null float64\n",
      "dtypes: float64(14), int32(1), object(4)\n",
      "memory usage: 7.0+ KB\n"
     ]
    }
   ],
   "source": [
    "models_df.info()"
   ]
  },
  {
   "cell_type": "code",
   "execution_count": 27,
   "metadata": {
    "collapsed": false
   },
   "outputs": [],
   "source": [
    "import matplotlib.pyplot as plt\n",
    "import seaborn as sns\n",
    "%matplotlib inline\n",
    "\n",
    "# oonvert appropriate columns to numeric for plotting\n",
    "ints = ['param_PCA__n_components','param_kbest__k']\n",
    "\n",
    "for col in ints:\n",
    "    models_df[col] =  pd.to_numeric(models_df[col], errors = 'coerce')\n",
    "\n",
    "\n"
   ]
  },
  {
   "cell_type": "code",
   "execution_count": 28,
   "metadata": {
    "collapsed": false
   },
   "outputs": [
    {
     "name": "stdout",
     "output_type": "stream",
     "text": [
      "<class 'pandas.core.frame.DataFrame'>\n",
      "RangeIndex: 48 entries, 0 to 47\n",
      "Data columns (total 19 columns):\n",
      "mean_fit_time              48 non-null float64\n",
      "mean_score_time            48 non-null float64\n",
      "mean_test_score            48 non-null float64\n",
      "mean_train_score           48 non-null float64\n",
      "param_PCA__n_components    48 non-null int64\n",
      "param_PCA__whiten          48 non-null object\n",
      "param_kbest__k             48 non-null int64\n",
      "params                     48 non-null object\n",
      "rank_test_score            48 non-null int32\n",
      "split0_test_score          48 non-null float64\n",
      "split0_train_score         48 non-null float64\n",
      "split1_test_score          48 non-null float64\n",
      "split1_train_score         48 non-null float64\n",
      "split2_test_score          48 non-null float64\n",
      "split2_train_score         48 non-null float64\n",
      "std_fit_time               48 non-null float64\n",
      "std_score_time             48 non-null float64\n",
      "std_test_score             48 non-null float64\n",
      "std_train_score            48 non-null float64\n",
      "dtypes: float64(14), int32(1), int64(2), object(2)\n",
      "memory usage: 7.0+ KB\n"
     ]
    }
   ],
   "source": [
    "models_df.info()"
   ]
  },
  {
   "cell_type": "code",
   "execution_count": 29,
   "metadata": {
    "collapsed": false
   },
   "outputs": [
    {
     "data": {
      "text/plain": [
       "<seaborn.axisgrid.PairGrid at 0xb7bb470>"
      ]
     },
     "execution_count": 29,
     "metadata": {},
     "output_type": "execute_result"
    },
    {
     "data": {
      "image/png": "[encoded data removed]",
      "text/plain": [
       "<matplotlib.figure.Figure at 0xb7bb518>"
      ]
     },
     "metadata": {},
     "output_type": "display_data"
    }
   ],
   "source": [
    "%matplotlib inline\n",
    "\n",
    "sns.pairplot(models_df, diag_kind='kde', palette=\"husl\",\n",
    "             vars = ['mean_fit_time', 'mean_test_score', 'mean_train_score', 'param_PCA__n_components',\n",
    "                     'param_kbest__k'])\n"
   ]
  },
  {
   "cell_type": "markdown",
   "metadata": {},
   "source": [
    "Just wanted to explore the model parameter space a bit. There is no relationship between PCA__n_components and mean test score. This seems plausible as it's not how many components, but also what features are reduced. There does appear to be some relationship between mean test score and number of features.Perhaps having a larger number of features will allow PCA to have a larger pool of features to find the optimum mix."
   ]
  },
  {
   "cell_type": "code",
   "execution_count": 30,
   "metadata": {
    "collapsed": false
   },
   "outputs": [],
   "source": [
    "# try pipeline w decision tree\n",
    "\n",
    "kbest = SelectKBest(f_classif)\n",
    "pca = PCA()\n",
    "scaler = preprocessing.StandardScaler()\n",
    "clf_DT = tree.DecisionTreeClassifier()\n",
    "\n",
    "\n",
    "# read that I should normalize before PCA so I put normalizer before PCA in pipeline\n",
    "# http://sebastianraschka.com/Articles/2014_about_feature_scaling.html\n",
    "\n",
    "pipe_DT = Pipeline(steps =[\n",
    "    ('kbest', kbest),\n",
    "    #('std_scale', scaler),    \n",
    "    #('PCA', pca),   \n",
    "    ('DT_clf', clf_DT)    \n",
    "    ])\n",
    "\n",
    "parameters_DT = {#\"PCA__n_components\":[2,4,6], \n",
    "                 #\"PCA__whiten\": [True],\n",
    "                 \"kbest__k\":[6,8,10,12,'all'], \"DT_clf__min_samples_split\":[2,3,4],\n",
    "                 \"DT_clf__max_depth\":[6,4]}"
   ]
  },
  {
   "cell_type": "code",
   "execution_count": 31,
   "metadata": {
    "collapsed": false
   },
   "outputs": [
    {
     "name": "stdout",
     "output_type": "stream",
     "text": [
      "\n",
      "Performing grid search...\n",
      "('pipeline:', ['kbest', 'DT_clf'])\n",
      "parameters:\n",
      "Fitting 3 folds for each of 30 candidates, totalling 90 fits\n"
     ]
    },
    {
     "name": "stderr",
     "output_type": "stream",
     "text": [
      "[Parallel(n_jobs=-1)]: Done  59 tasks      | elapsed:    2.9s\n",
      "[Parallel(n_jobs=-1)]: Done  83 out of  90 | elapsed:    3.1s remaining:    0.2s\n"
     ]
    },
    {
     "name": "stdout",
     "output_type": "stream",
     "text": [
      "done in 0:00:03.859000\n",
      "\n",
      "\n",
      "Best score: 0.681\n",
      "\n",
      "Best parameters set:\n",
      "\tDT_clf__max_depth: 4\n",
      "\tDT_clf__min_samples_split: 3\n",
      "\tkbest__k: 6\n"
     ]
    },
    {
     "name": "stderr",
     "output_type": "stream",
     "text": [
      "[Parallel(n_jobs=-1)]: Done  90 out of  90 | elapsed:    3.1s finished\n"
     ]
    }
   ],
   "source": [
    "# use pipeline in GridSearchCV\n",
    "\n",
    "if __name__ == \"__main__\":\n",
    "    \n",
    "    # initialize grid search\n",
    "    grid_search = GridSearchCV(pipe_DT, parameters_DT, n_jobs = -1, verbose = 1, scoring = \"roc_auc\")\n",
    " \n",
    "    print(\"\\nPerforming grid search...\")\n",
    "    print(\"pipeline:\", [name for name, _ in pipe_DT.steps])\n",
    "    print(\"parameters:\")\n",
    "    #pprint(parameters)\n",
    "    t0 = dt.now()\n",
    "    grid_search.fit(features_train, labels_train)\n",
    "    print(\"done in {}\\n\".format(dt.now() - t0))\n",
    "    print(\"\\nBest score: {:0.3f}\".format(grid_search.best_score_))\n",
    "    print(\"\\nBest parameters set:\")\n",
    "    best_parameters = grid_search.best_estimator_.get_params()\n",
    "    for param_name in sorted(parameters_DT.keys()):\n",
    "        print(\"\\t{}: {}\".format(param_name, best_parameters[param_name]))\n"
   ]
  },
  {
   "cell_type": "code",
   "execution_count": 32,
   "metadata": {
    "collapsed": false
   },
   "outputs": [
    {
     "data": {
      "text/plain": [
       "['salary',\n",
       " 'bonus',\n",
       " 'deferred_income',\n",
       " 'total_stock_value',\n",
       " 'exercised_stock_options',\n",
       " 'payments_plus_stock']"
      ]
     },
     "execution_count": 32,
     "metadata": {},
     "output_type": "execute_result"
    }
   ],
   "source": [
    "features_selected_bool = grid_search.best_estimator_.named_steps['kbest'].get_support()\n",
    "features_selected_list = [x for x, y in zip(features_list1[1:], features_selected_bool) if y]\n",
    "features_selected_list"
   ]
  },
  {
   "cell_type": "code",
   "execution_count": 33,
   "metadata": {
    "collapsed": true
   },
   "outputs": [],
   "source": [
    "best_clf = grid_search.best_estimator_.fit(features_train, labels_train)"
   ]
  },
  {
   "cell_type": "code",
   "execution_count": 34,
   "metadata": {
    "collapsed": false
   },
   "outputs": [
    {
     "name": "stdout",
     "output_type": "stream",
     "text": [
      "['poi',\n",
      " 'salary',\n",
      " 'bonus',\n",
      " 'deferred_income',\n",
      " 'total_stock_value',\n",
      " 'exercised_stock_options',\n",
      " 'payments_plus_stock']\n",
      "Pipeline(steps=[('kbest', SelectKBest(k=6, score_func=<function f_classif at 0x0000000003EA67B8>)), ('DT_clf', DecisionTreeClassifier(class_weight=None, criterion='gini', max_depth=4,\n",
      "            max_features=None, max_leaf_nodes=None,\n",
      "            min_impurity_split=1e-07, min_samples_leaf=1,\n",
      "            min_samples_split=3, min_weight_fraction_leaf=0.0,\n",
      "            presort=False, random_state=None, splitter='best'))])\n",
      "\tAccuracy: 0.82021\tPrecision: 0.28149\tRecall: 0.16650\tF1: 0.20924\tF2: 0.18131\n",
      "\tTotal predictions: 14000\tTrue positives:  333\tFalse positives:  850\tFalse negatives: 1667\tTrue negatives: 11150\n",
      "\n"
     ]
    }
   ],
   "source": [
    "### Load the dictionary containing the dataset\n",
    "with open(\"final_project_dataset.pkl\", \"r\") as data_file:\n",
    "    data_dict1 = pickle.load(data_file)\n",
    "\n",
    "    \n",
    "    \n",
    "### Task 2: Remove outlier identified from earlier visualizatoin\n",
    "data_dict1.pop('TOTAL')\n",
    "data_dict1.pop('THE TRAVEL AGENCY IN THE PARK')\n",
    "\n",
    "\n",
    "# add custom features\n",
    "for name in data_dict1:\n",
    "    if data_dict1[name]['total_payments'] != 'NaN' and data_dict1[name]['salary'] != 'NaN':\n",
    "        data_dict1[name]['total_salary_ratio'] = (data_dict1[name]['total_payments']*1./data_dict1[name]['salary'])\n",
    "    else:\n",
    "        data_dict1[name]['total_salary_ratio'] = 'NaN'\n",
    "    if data_dict1[name]['total_payments'] != 'NaN' and data_dict1[name]['total_stock_value'] != 'NaN':\n",
    "        data_dict1[name]['payments_plus_stock'] = data_dict1[name]['total_payments'] \\\n",
    "        + data_dict1[name]['total_stock_value']\n",
    "    else:\n",
    "        data_dict1[name]['payments_plus_stock'] = 'NaN'\n",
    "\n",
    "### Store to my_dataset for easy export below.\n",
    "my_dataset1 = data_dict1\n",
    "         \n",
    "\n",
    "### Extract features and labels from dataset for local testing (use features_selected_list)\n",
    "from pprint import pprint\n",
    "# due to featureFormat() need to add 'poi' as first feature of the list\n",
    "# https://discussions.udacity.com/t/valueerror-the-least-populated-class-in-y-has-only-1-member-which-is-too-few/44984/2\n",
    "poi_first = ['poi']\n",
    "features_selected_list = poi_first + features_selected_list\n",
    "data1 = featureFormat(my_dataset1, features_selected_list, sort_keys = True)\n",
    "labels, features = targetFeatureSplit(data1)\n",
    "pprint(features_selected_list)\n",
    "# pprint(labels)\n",
    "# labels are now all 0.0 and 1.0 as they should be after including POI first\n",
    "dump_classifier_and_data(best_clf, my_dataset1, features_selected_list)\n",
    "main()"
   ]
  },
  {
   "cell_type": "markdown",
   "metadata": {},
   "source": [
    "['poi',\n",
    " 'salary',\n",
    " 'bonus',\n",
    " 'deferred_income',\n",
    " 'total_stock_value',\n",
    " 'exercised_stock_options',\n",
    " 'payments_plus_stock']\n",
    "Pipeline(steps=[('kbest', SelectKBest(k=6, score_func=<function f_classif at 0x00000000075B2EB8>)), ('std_scale', StandardScaler(copy=True, with_mean=True, with_std=True)), ('PCA', PCA(copy=True, iterated_power='auto', n_components=4, random_state=None,\n",
    "  svd_solver='auto', tol=0.0, whiten=True)), ('DT_clf',...it=2, min_weight_fraction_leaf=0.0,\n",
    "            presort=False, random_state=None, splitter='best'))])\n",
    "\tAccuracy: 0.79436\tPrecision: 0.26635\tRecall: 0.25050\tF1: 0.25818\tF2: 0.25352\n",
    "\tTotal predictions: 14000\tTrue positives:  501\tFalse positives: 1380\tFalse negatives: 1499\tTrue negatives: 10620\n",
    "\n",
    "With the parameters above, I am not getting prediction metrics as high as using decision tree alone outside of a pipeline. Perhaps PCA or feature scaling is affecting signal. **NOTE** while editing code above to modify parameters of pipeline_DT, I noticed that I had not changed the parameters object to point to parameters_DT yet. So the results above are invalid and I need to rerun them with the correct parameters. \n",
    "\n",
    "After correction:\n",
    "['poi',\n",
    " 'salary',\n",
    " 'total_payments',\n",
    " 'bonus',\n",
    " 'other',\n",
    " 'deferred_income',\n",
    " 'total_stock_value',\n",
    " 'exercised_stock_options',\n",
    " 'long_term_incentive',\n",
    " 'restricted_stock',\n",
    " 'from_poi_to_this_person',\n",
    " 'shared_receipt_with_poi',\n",
    " 'payments_plus_stock']\n",
    "Pipeline(steps=[('kbest', SelectKBest(k=12, score_func=<function f_classif at 0x0000000003E296D8>)), ('std_scale', StandardScaler(copy=True, with_mean=True, with_std=True)), ('PCA', PCA(copy=True, iterated_power='auto', n_components=2, random_state=None,\n",
    "  svd_solver='auto', tol=0.0, whiten=True)), ('DT_clf'...it=2, min_weight_fraction_leaf=0.0,\n",
    "            presort=False, random_state=None, splitter='best'))])\n",
    "\tAccuracy: 0.84080\tPrecision: 0.25443\tRecall: 0.10050\tF1: 0.14409\tF2: 0.11433\n",
    "\tTotal predictions: 15000\tTrue positives:  201\tFalse positives:  589\tFalse negatives: 1799\tTrue negatives: 12411\n",
    "\n"
   ]
  }
 ],
 "metadata": {
  "kernelspec": {
   "display_name": "Python 2",
   "language": "python",
   "name": "python2"
  },
  "language_info": {
   "codemirror_mode": {
    "name": "ipython",
    "version": 2
   },
   "file_extension": ".py",
   "mimetype": "text/x-python",
   "name": "python",
   "nbconvert_exporter": "python",
   "pygments_lexer": "ipython2",
   "version": "2.7.11"
  }
 },
 "nbformat": 4,
 "nbformat_minor": 0
}
