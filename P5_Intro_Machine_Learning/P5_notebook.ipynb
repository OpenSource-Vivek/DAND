{
 "cells": [
  {
   "cell_type": "markdown",
   "metadata": {},
   "source": [
    "In this notebook, I test out several different ML algorithms in an attempt to create a prediction model for Enron Scandal POIs. "
   ]
  },
  {
   "cell_type": "code",
   "execution_count": 1,
   "metadata": {
    "collapsed": false
   },
   "outputs": [
    {
     "name": "stderr",
     "output_type": "stream",
     "text": [
      "C:\\Users\\Scott\\Anaconda2\\lib\\site-packages\\sklearn\\cross_validation.py:44: DeprecationWarning: This module was deprecated in version 0.18 in favor of the model_selection module into which all the refactored classes and functions are moved. Also note that the interface of the new CV iterators are different from that of this module. This module will be removed in 0.20.\n",
      "  \"This module will be removed in 0.20.\", DeprecationWarning)\n"
     ]
    }
   ],
   "source": [
    "import sys\n",
    "import pickle\n",
    "sys.path.append(\"../tools/\")\n",
    "\n",
    "from feature_format import featureFormat, targetFeatureSplit\n",
    "from tester import dump_classifier_and_data\n",
    "\n",
    "### Task 1: initial feature selection\n",
    "# 3/10 based on visualizations, removed email_address, loan_advances, director_fees, \n",
    "# restricted_stock_deferred, other\n",
    "\n",
    "features_list1 = ['poi', 'salary', 'deferral_payments', 'total_payments', 'bonus', 'director_fees', 'other',\n",
    "                 'deferred_income', 'total_stock_value', 'exercised_stock_options','restricted_stock_deferred',\n",
    "                 'long_term_incentive', 'restricted_stock', 'director_fees', 'to_messages','from_messages', \n",
    "                 'from_poi_to_this_person', 'from_this_person_to_poi', 'shared_receipt_with_poi',\n",
    "                 'total_salary_ratio', 'payments_plus_stock']\n",
    "                 \n",
    "\n",
    "\n",
    "### Load the dictionary containing the dataset\n",
    "with open(\"final_project_dataset.pkl\", \"r\") as data_file:\n",
    "    data_dict1 = pickle.load(data_file)\n",
    "\n",
    "### Task 2: Remove outlier identified from earlier visualizatoin\n",
    "data_dict1.pop('TOTAL')\n",
    "data_dict1.pop('THE TRAVEL AGENCY IN THE PARK')\n",
    "\n",
    "\n",
    "### Task 3: Create new features to test\n",
    "# total_salary_ratio is ratio of total_payements which includes bonus, long term incentive, and other payments \n",
    "# to employees salary\n",
    "# payments_plus_stock is total_payments added to total_stock_value\n",
    "\n",
    "for name in data_dict1:\n",
    "    if data_dict1[name]['total_payments'] != 'NaN' and data_dict1[name]['salary'] != 'NaN':\n",
    "        data_dict1[name]['total_salary_ratio'] = (data_dict1[name]['total_payments']*1./data_dict1[name]['salary'])\n",
    "    else:\n",
    "        data_dict1[name]['total_salary_ratio'] = 'NaN'\n",
    "    if data_dict1[name]['total_payments'] != 'NaN' and data_dict1[name]['total_stock_value'] != 'NaN':\n",
    "        data_dict1[name]['payments_plus_stock'] = data_dict1[name]['total_payments'] \\\n",
    "        + data_dict1[name]['total_stock_value']\n",
    "    else:\n",
    "        data_dict1[name]['payments_plus_stock'] = 'NaN'\n",
    "           \n",
    "                 \n",
    "### Store to my_dataset for easy export below.\n",
    "my_dataset1 = data_dict1\n",
    "\n",
    "\n",
    "### Extract features and labels from dataset for local testing\n",
    "# featureFormat converts dictionary to numpy array of features\n",
    "# also removes NaN and converts to 0.0\n",
    "\n",
    "data1 = featureFormat(my_dataset1, features_list1, sort_keys = True)\n",
    "\n"
   ]
  },
  {
   "cell_type": "code",
   "execution_count": 2,
   "metadata": {
    "collapsed": false
   },
   "outputs": [
    {
     "name": "stdout",
     "output_type": "stream",
     "text": [
      "initial # of features = 21\n",
      " \n",
      "Selected Features, Scores, P-Values\n",
      "[('exercised_stock_options', '24.82', '0.000'), ('total_stock_value', '24.18', '0.000'), ('bonus', '20.79', '0.000'), ('salary', '18.29', '0.000'), ('payments_plus_stock', '17.81', '0.000'), ('deferred_income', '11.46', '0.001'), ('long_term_incentive', '9.92', '0.002'), ('restricted_stock', '9.21', '0.003'), ('total_payments', '8.77', '0.004'), ('shared_receipt_with_poi', '8.59', '0.004'), ('from_poi_to_this_person', '5.24', '0.024'), ('other', '4.19', '0.043'), ('from_this_person_to_poi', '2.38', '0.125'), ('director_fees', '2.13', '0.147'), ('director_fees', '2.13', '0.147'), ('to_messages', '1.65', '0.202'), ('deferral_payments', '0.22', '0.636'), ('from_messages', '0.17', '0.681'), ('restricted_stock_deferred', '0.07', '0.798'), ('total_salary_ratio', '0.05', '0.819')]\n"
     ]
    }
   ],
   "source": [
    "\n",
    "# for a given numpy array, splits out the first feature for prediction (in this case, 'poi')\n",
    "# return target and features as seperate lists\n",
    "labels, features = targetFeatureSplit(data1)\n",
    "\n",
    "\n",
    "### split into training and testing sets\n",
    "# due to small dataset, I'm not holding out any test set and will train in entirety of data\n",
    "from sklearn.cross_validation import train_test_split\n",
    "\n",
    "features_train, features_test, labels_train, labels_test = \\\n",
    "    train_test_split(features, labels, test_size=0, random_state=42)\n",
    "\n",
    "### Try using SelectKBest to find best features in univariate testing (does not look at feature interactions)\n",
    "from sklearn.feature_selection import SelectKBest, f_classif\n",
    "\n",
    "print \"initial # of features = \" + str(len(features_list1))\n",
    "\n",
    "skb = SelectKBest(k = 'all')\n",
    "best_features = skb.fit_transform(features_train, labels_train)\n",
    "\n",
    "\n",
    "# Get SelectKBest scores, rounded to 2 decimal places, name them \"feature_scores\"\n",
    "feature_scores = ['%.2f' % elem for elem in skb.scores_ ]\n",
    "# Get SelectKBest pvalues, rounded to 3 decimal places, name them \"feature_scores_pvalues\"\n",
    "feature_scores_pvalues = ['%.3f' % elem for elem in  skb.pvalues_ ]\n",
    "# Get SelectKBest feature names, whose indices are stored in 'skb.get_support',\n",
    "# create a tuple of feature names, scores and pvalues, name it \"features_selected_tuple\"\n",
    "features_selected_tuple=[(features_list1[i+1], feature_scores[i], \n",
    "                          feature_scores_pvalues[i]) for i in skb.get_support(indices=True)]\n",
    "\n",
    "# Sort the tuple by score, in reverse order\n",
    "features_selected_tuple = sorted(features_selected_tuple, key=lambda feature: float(feature[1]) , reverse=True)\n",
    "\n",
    "# Print\n",
    "print ' '\n",
    "print 'Selected Features, Scores, P-Values'\n",
    "print features_selected_tuple"
   ]
  },
  {
   "cell_type": "code",
   "execution_count": 3,
   "metadata": {
    "collapsed": true
   },
   "outputs": [],
   "source": [
    "# fist try with full feature set\n",
    "\n",
    "### Store to my_dataset for easy export below.\n",
    "my_dataset1 = data_dict1\n",
    "\n",
    "### Extract features and labels from dataset for local testing\n",
    "data1 = featureFormat(my_dataset1, features_list1, sort_keys = True)\n",
    "labels, features = targetFeatureSplit(data1)\n"
   ]
  },
  {
   "cell_type": "code",
   "execution_count": 4,
   "metadata": {
    "collapsed": false
   },
   "outputs": [
    {
     "name": "stdout",
     "output_type": "stream",
     "text": [
      "GaussianNB(priors=None)\n",
      "\tAccuracy: 0.37680\tPrecision: 0.15912\tRecall: 0.85750\tF1: 0.26843\tF2: 0.45665\n",
      "\tTotal predictions: 15000\tTrue positives: 1715\tFalse positives: 9063\tFalse negatives:  285\tTrue negatives: 3937\n",
      "\n"
     ]
    }
   ],
   "source": [
    "### Task 4: Trying variety of classifiers\n",
    "\n",
    "from tester import main #import scripts from tester.py\n",
    "\n",
    "'''\n",
    "    running main() fom tester.py tests the classifier using cross fold validation (1000 folds)\n",
    "    uses StratifiedShuffleSplit() from sklearn.cross_validation\n",
    "    since our dataset is small and unbalanced (many more non-POIs than POIs, )\n",
    "    The performance measure reported by k-fold cross-validation is then the average \n",
    "    of the values computed in the loop.\n",
    "'''\n",
    "\n",
    "# Naive Bayes\n",
    "\n",
    "from sklearn.naive_bayes import GaussianNB\n",
    "clf = GaussianNB()\n",
    "dump_classifier_and_data(clf, my_dataset1, features_list1)\n",
    "main()"
   ]
  },
  {
   "cell_type": "code",
   "execution_count": 5,
   "metadata": {
    "collapsed": false
   },
   "outputs": [
    {
     "name": "stdout",
     "output_type": "stream",
     "text": [
      "DecisionTreeClassifier(class_weight=None, criterion='gini', max_depth=None,\n",
      "            max_features=None, max_leaf_nodes=None,\n",
      "            min_impurity_split=1e-07, min_samples_leaf=1,\n",
      "            min_samples_split=2, min_weight_fraction_leaf=0.0,\n",
      "            presort=False, random_state=None, splitter='best')\n",
      "\tAccuracy: 0.79080\tPrecision: 0.23923\tRecall: 0.26100\tF1: 0.24964\tF2: 0.25633\n",
      "\tTotal predictions: 15000\tTrue positives:  522\tFalse positives: 1660\tFalse negatives: 1478\tTrue negatives: 11340\n",
      "\n"
     ]
    }
   ],
   "source": [
    "from sklearn import tree\n",
    "clf = tree.DecisionTreeClassifier(min_samples_split=2)\n",
    "dump_classifier_and_data(clf, my_dataset1, features_list1)\n",
    "main()"
   ]
  },
  {
   "cell_type": "code",
   "execution_count": 6,
   "metadata": {
    "collapsed": false
   },
   "outputs": [
    {
     "name": "stdout",
     "output_type": "stream",
     "text": [
      "RandomForestClassifier(bootstrap=True, class_weight=None, criterion='gini',\n",
      "            max_depth=None, max_features='auto', max_leaf_nodes=None,\n",
      "            min_impurity_split=1e-07, min_samples_leaf=1,\n",
      "            min_samples_split=2, min_weight_fraction_leaf=0.0,\n",
      "            n_estimators=5, n_jobs=1, oob_score=False, random_state=None,\n",
      "            verbose=0, warm_start=False)\n",
      "\tAccuracy: 0.84347\tPrecision: 0.34520\tRecall: 0.19400\tF1: 0.24840\tF2: 0.21263\n",
      "\tTotal predictions: 15000\tTrue positives:  388\tFalse positives:  736\tFalse negatives: 1612\tTrue negatives: 12264\n",
      "\n"
     ]
    }
   ],
   "source": [
    "from sklearn.ensemble import RandomForestClassifier\n",
    "clf = RandomForestClassifier(n_estimators=5)\n",
    "# note that n_estmiators is the number of trees in the forest\n",
    "dump_classifier_and_data(clf, my_dataset1, features_list1)\n",
    "main()"
   ]
  },
  {
   "cell_type": "code",
   "execution_count": 7,
   "metadata": {
    "collapsed": true
   },
   "outputs": [],
   "source": [
    "# reduce features manually to those with p-values < .01 from SelectKBest\n",
    "features_list1 = ['poi', 'bonus', 'salary', 'payments_plus_stock', 'shared_receipt_with_poi', 'total_stock_value', \n",
    "                  'exercised_stock_options', 'total_payments','deferred_income', 'restricted_stock', \n",
    "                  'long_term_incentive']\n"
   ]
  },
  {
   "cell_type": "code",
   "execution_count": 8,
   "metadata": {
    "collapsed": true
   },
   "outputs": [],
   "source": [
    "### Store to my_dataset for easy export below.\n",
    "my_dataset1 = data_dict1\n",
    "\n",
    "### Extract features and labels from dataset for local testing\n",
    "data1 = featureFormat(my_dataset1, features_list1, sort_keys = True)\n",
    "labels, features = targetFeatureSplit(data1)"
   ]
  },
  {
   "cell_type": "code",
   "execution_count": 9,
   "metadata": {
    "collapsed": false
   },
   "outputs": [
    {
     "name": "stdout",
     "output_type": "stream",
     "text": [
      "GaussianNB(priors=None)\n",
      "\tAccuracy: 0.84380\tPrecision: 0.40058\tRecall: 0.34550\tF1: 0.37101\tF2: 0.35527\n",
      "\tTotal predictions: 15000\tTrue positives:  691\tFalse positives: 1034\tFalse negatives: 1309\tTrue negatives: 11966\n",
      "\n"
     ]
    }
   ],
   "source": [
    "# try NB again\n",
    "clf = GaussianNB()\n",
    "dump_classifier_and_data(clf, my_dataset1, features_list1)\n",
    "main()\n"
   ]
  },
  {
   "cell_type": "code",
   "execution_count": 10,
   "metadata": {
    "collapsed": false
   },
   "outputs": [
    {
     "name": "stdout",
     "output_type": "stream",
     "text": [
      "DecisionTreeClassifier(class_weight=None, criterion='gini', max_depth=None,\n",
      "            max_features=None, max_leaf_nodes=None,\n",
      "            min_impurity_split=1e-07, min_samples_leaf=1,\n",
      "            min_samples_split=2, min_weight_fraction_leaf=0.0,\n",
      "            presort=False, random_state=None, splitter='best')\n",
      "\tAccuracy: 0.81120\tPrecision: 0.29032\tRecall: 0.28800\tF1: 0.28916\tF2: 0.28846\n",
      "\tTotal predictions: 15000\tTrue positives:  576\tFalse positives: 1408\tFalse negatives: 1424\tTrue negatives: 11592\n",
      "\n"
     ]
    }
   ],
   "source": [
    "# decision tree\n",
    "clf = tree.DecisionTreeClassifier(min_samples_split=2)\n",
    "dump_classifier_and_data(clf, my_dataset1, features_list1)\n",
    "main()\n"
   ]
  },
  {
   "cell_type": "code",
   "execution_count": 11,
   "metadata": {
    "collapsed": false
   },
   "outputs": [
    {
     "name": "stdout",
     "output_type": "stream",
     "text": [
      "RandomForestClassifier(bootstrap=True, class_weight=None, criterion='gini',\n",
      "            max_depth=None, max_features='auto', max_leaf_nodes=None,\n",
      "            min_impurity_split=1e-07, min_samples_leaf=1,\n",
      "            min_samples_split=2, min_weight_fraction_leaf=0.0,\n",
      "            n_estimators=5, n_jobs=1, oob_score=False, random_state=None,\n",
      "            verbose=0, warm_start=False)\n",
      "\tAccuracy: 0.84500\tPrecision: 0.36691\tRecall: 0.22400\tF1: 0.27817\tF2: 0.24292\n",
      "\tTotal predictions: 15000\tTrue positives:  448\tFalse positives:  773\tFalse negatives: 1552\tTrue negatives: 12227\n",
      "\n"
     ]
    }
   ],
   "source": [
    "#try randomforest\n",
    "clf = RandomForestClassifier(n_estimators=5)\n",
    "# note that n_estmiators is the number of trees in the forest\n",
    "dump_classifier_and_data(clf, my_dataset1, features_list1)\n",
    "main()"
   ]
  },
  {
   "cell_type": "code",
   "execution_count": 12,
   "metadata": {
    "collapsed": false
   },
   "outputs": [
    {
     "name": "stdout",
     "output_type": "stream",
     "text": [
      "RandomForestClassifier(bootstrap=True, class_weight=None, criterion='gini',\n",
      "            max_depth=None, max_features='auto', max_leaf_nodes=None,\n",
      "            min_impurity_split=1e-07, min_samples_leaf=1,\n",
      "            min_samples_split=2, min_weight_fraction_leaf=0.0,\n",
      "            n_estimators=10, n_jobs=1, oob_score=False, random_state=None,\n",
      "            verbose=0, warm_start=False)\n",
      "\tAccuracy: 0.85393\tPrecision: 0.38077\tRecall: 0.15250\tF1: 0.21778\tF2: 0.17328\n",
      "\tTotal predictions: 15000\tTrue positives:  305\tFalse positives:  496\tFalse negatives: 1695\tTrue negatives: 12504\n",
      "\n"
     ]
    }
   ],
   "source": [
    "clf = RandomForestClassifier(n_estimators=10)\n",
    "dump_classifier_and_data(clf, my_dataset1, features_list1)\n",
    "main()"
   ]
  },
  {
   "cell_type": "code",
   "execution_count": 13,
   "metadata": {
    "collapsed": false
   },
   "outputs": [
    {
     "name": "stdout",
     "output_type": "stream",
     "text": [
      "RandomForestClassifier(bootstrap=True, class_weight=None, criterion='gini',\n",
      "            max_depth=None, max_features='auto', max_leaf_nodes=None,\n",
      "            min_impurity_split=1e-07, min_samples_leaf=1,\n",
      "            min_samples_split=2, min_weight_fraction_leaf=0.0,\n",
      "            n_estimators=15, n_jobs=1, oob_score=False, random_state=None,\n",
      "            verbose=0, warm_start=False)\n",
      "\tAccuracy: 0.85413\tPrecision: 0.40249\tRecall: 0.19400\tF1: 0.26181\tF2: 0.21642\n",
      "\tTotal predictions: 15000\tTrue positives:  388\tFalse positives:  576\tFalse negatives: 1612\tTrue negatives: 12424\n",
      "\n"
     ]
    }
   ],
   "source": [
    "clf = RandomForestClassifier(n_estimators=15)\n",
    "dump_classifier_and_data(clf, my_dataset1, features_list1)\n",
    "main()"
   ]
  },
  {
   "cell_type": "code",
   "execution_count": 14,
   "metadata": {
    "collapsed": true
   },
   "outputs": [],
   "source": [
    "#manually reduce feature set further to 2 features\n",
    "\n",
    "features_list1 = ['poi', 'bonus', 'salary']\n",
    "\n",
    "### Store to my_dataset for easy export below.\n",
    "my_dataset1 = data_dict1\n",
    "\n",
    "### Extract features and labels from dataset for local testing\n",
    "data1 = featureFormat(my_dataset1, features_list1, sort_keys = True)\n",
    "labels, features = targetFeatureSplit(data1)\n"
   ]
  },
  {
   "cell_type": "code",
   "execution_count": 15,
   "metadata": {
    "collapsed": false
   },
   "outputs": [
    {
     "name": "stdout",
     "output_type": "stream",
     "text": [
      "RandomForestClassifier(bootstrap=True, class_weight=None, criterion='gini',\n",
      "            max_depth=None, max_features='auto', max_leaf_nodes=None,\n",
      "            min_impurity_split=1e-07, min_samples_leaf=1,\n",
      "            min_samples_split=2, min_weight_fraction_leaf=0.0,\n",
      "            n_estimators=15, n_jobs=1, oob_score=False, random_state=None,\n",
      "            verbose=0, warm_start=False)\n",
      "\tAccuracy: 0.74450\tPrecision: 0.30221\tRecall: 0.21200\tF1: 0.24919\tF2: 0.22546\n",
      "\tTotal predictions: 10000\tTrue positives:  424\tFalse positives:  979\tFalse negatives: 1576\tTrue negatives: 7021\n",
      "\n"
     ]
    }
   ],
   "source": [
    "clf = RandomForestClassifier(n_estimators=15)\n",
    "dump_classifier_and_data(clf, my_dataset1, features_list1)\n",
    "main()\n"
   ]
  },
  {
   "cell_type": "markdown",
   "metadata": {},
   "source": [
    "Interestingly, the model with the best performance of the ones tested thus far is the simple Gaussian Naive Bayes with default parameters. Even though that algorithm is hitting my desired benchmarks of .30 precision and .30 recall, more work can certainly be done to optimize and tune various algorithms for better performance.\n",
    "\n",
    "In this particular use-case, while accuracy is always important, I prioritize recall since that is the ratio of true positives to all positives. That is, it is the algorithm's ability to pick up a POI if the person is indeed a POI. I would rather sacrifice precision for recall in this instance since our fraud detector would only be a first line of idenfification of possible fraud that could then be supplemented by in depth human investigation. In a way, I wish to algorithmically cast a wider net by incrasing recall. \n",
    "\n",
    "Next steps I would like to pursue:\n",
    "  * continue testing/tuning with Naive Bayes, Decision Tree, and RandomForest parameters to boost recall\n",
    "  * learn how to visualize classificaiton outputs (decision surface splits, etc)\n",
    "  * test using feature scaling and Principal Components Analysis (PCA) on Naive Bayes\n",
    "  * implement a pipeline to better automate workflow and prevent risk of information leakage\n",
    "  * test using GridsearchCV to systematically seek optimum features\n"
   ]
  },
  {
   "cell_type": "code",
   "execution_count": 16,
   "metadata": {
    "collapsed": true
   },
   "outputs": [],
   "source": [
    "# go back to original dataset minus obvious ones to omit\n",
    "\n",
    "features_list1 = ['poi', 'salary', 'deferral_payments', 'total_payments', 'bonus', 'director_fees', 'other',\n",
    "                 'deferred_income', 'total_stock_value', 'exercised_stock_options','restricted_stock_deferred',\n",
    "                 'long_term_incentive', 'restricted_stock', 'director_fees', 'to_messages','from_messages', \n",
    "                 'from_poi_to_this_person', 'from_this_person_to_poi', 'shared_receipt_with_poi',\n",
    "                 'total_salary_ratio', 'payments_plus_stock']\n",
    "### Store to my_dataset for easy export below.\n",
    "my_dataset1 = data_dict1\n",
    "\n",
    "### Extract features and labels from dataset for local testing\n",
    "data1 = featureFormat(my_dataset1, features_list1, sort_keys = True)\n",
    "labels, features = targetFeatureSplit(data1)"
   ]
  },
  {
   "cell_type": "code",
   "execution_count": 17,
   "metadata": {
    "collapsed": false
   },
   "outputs": [],
   "source": [
    "# set up various pipeline objects\n",
    "from pprint import pprint\n",
    "from sklearn.model_selection import GridSearchCV # updated based on scikit-learn 0.18.1\n",
    "from sklearn.pipeline import Pipeline\n",
    "from sklearn import preprocessing\n",
    "from sklearn.preprocessing import Normalizer\n",
    "from sklearn.decomposition import PCA\n",
    "from datetime import datetime as dt\n",
    "\n",
    "\n",
    "kbest = SelectKBest(f_classif)\n",
    "pca = PCA()\n",
    "scaler = preprocessing.StandardScaler()\n",
    "clf_GNB = GaussianNB()\n",
    "\n",
    "# read that I should normalize before PCA so I put normalizer before PCA in pipeline\n",
    "# http://sebastianraschka.com/Articles/2014_about_feature_scaling.html\n",
    "\n",
    "pipe_nb = Pipeline(steps =[\n",
    "    ('kbest', kbest),\n",
    "    ('std_scale', scaler),    \n",
    "    ('PCA', pca),   \n",
    "    ('nb_clf', clf_GNB)    \n",
    "    ])\n",
    "\n",
    "parameters_nb = {\"PCA__n_components\":[2,4,6], \"PCA__whiten\": [True],\n",
    "              \"kbest__k\":[6,8,10,12,'all']}"
   ]
  },
  {
   "cell_type": "code",
   "execution_count": 18,
   "metadata": {
    "collapsed": false
   },
   "outputs": [
    {
     "name": "stdout",
     "output_type": "stream",
     "text": [
      "\n",
      "Performing grid search...\n",
      "('pipeline:', ['kbest', 'std_scale', 'PCA', 'nb_clf'])\n",
      "parameters:\n",
      "Fitting 3 folds for each of 15 candidates, totalling 45 fits\n",
      "done in 0:00:02.670000\n",
      "\n",
      "\n",
      "Best score: 0.797\n",
      "\n",
      "Best parameters set:\n",
      "\tPCA__n_components: 4\n",
      "\tPCA__whiten: True\n",
      "\tkbest__k: 12\n"
     ]
    },
    {
     "name": "stderr",
     "output_type": "stream",
     "text": [
      "[Parallel(n_jobs=-1)]: Done  45 out of  45 | elapsed:    2.1s finished\n"
     ]
    }
   ],
   "source": [
    "# use pipeline in GridSearchCV\n",
    "\n",
    "if __name__ == \"__main__\":\n",
    "    \n",
    "    # initialize grid search\n",
    "    grid_search = GridSearchCV(pipe_nb, parameters_nb, n_jobs = -1, verbose = 1, scoring = \"roc_auc\")\n",
    " \n",
    "    print(\"\\nPerforming grid search...\")\n",
    "    print(\"pipeline:\", [name for name, _ in pipe_nb.steps])\n",
    "    print(\"parameters:\")\n",
    "    #pprint(parameters)\n",
    "    t0 = dt.now()\n",
    "    grid_search.fit(features_train, labels_train)\n",
    "    print(\"done in {}\\n\".format(dt.now() - t0))\n",
    "    print(\"\\nBest score: {:0.3f}\".format(grid_search.best_score_))\n",
    "    print(\"\\nBest parameters set:\")\n",
    "    best_parameters = grid_search.best_estimator_.get_params()\n",
    "    for param_name in sorted(parameters_nb.keys()):\n",
    "        print(\"\\t{}: {}\".format(param_name, best_parameters[param_name]))"
   ]
  },
  {
   "cell_type": "code",
   "execution_count": 19,
   "metadata": {
    "collapsed": false
   },
   "outputs": [],
   "source": [
    "features_selected_bool = grid_search.best_estimator_.named_steps['kbest'].get_support()\n",
    "features_selected_list = [x for x, y in zip(features_list1[1:], features_selected_bool) if y]"
   ]
  },
  {
   "cell_type": "code",
   "execution_count": 20,
   "metadata": {
    "collapsed": false
   },
   "outputs": [
    {
     "data": {
      "text/plain": [
       "['salary',\n",
       " 'total_payments',\n",
       " 'bonus',\n",
       " 'other',\n",
       " 'deferred_income',\n",
       " 'total_stock_value',\n",
       " 'exercised_stock_options',\n",
       " 'long_term_incentive',\n",
       " 'restricted_stock',\n",
       " 'from_poi_to_this_person',\n",
       " 'shared_receipt_with_poi',\n",
       " 'payments_plus_stock']"
      ]
     },
     "execution_count": 20,
     "metadata": {},
     "output_type": "execute_result"
    }
   ],
   "source": [
    "features_selected_list"
   ]
  },
  {
   "cell_type": "code",
   "execution_count": 21,
   "metadata": {
    "collapsed": true
   },
   "outputs": [],
   "source": [
    "best_clf = grid_search.best_estimator_.fit(features_train, labels_train)"
   ]
  },
  {
   "cell_type": "code",
   "execution_count": 22,
   "metadata": {
    "collapsed": false
   },
   "outputs": [
    {
     "name": "stdout",
     "output_type": "stream",
     "text": [
      "['poi',\n",
      " 'salary',\n",
      " 'total_payments',\n",
      " 'bonus',\n",
      " 'other',\n",
      " 'deferred_income',\n",
      " 'total_stock_value',\n",
      " 'exercised_stock_options',\n",
      " 'long_term_incentive',\n",
      " 'restricted_stock',\n",
      " 'from_poi_to_this_person',\n",
      " 'shared_receipt_with_poi',\n",
      " 'payments_plus_stock']\n",
      "Pipeline(steps=[('kbest', SelectKBest(k=12, score_func=<function f_classif at 0x0000000007531F28>)), ('std_scale', StandardScaler(copy=True, with_mean=True, with_std=True)), ('PCA', PCA(copy=True, iterated_power='auto', n_components=4, random_state=None,\n",
      "  svd_solver='auto', tol=0.0, whiten=True)), ('nb_clf', GaussianNB(priors=None))])\n",
      "\tAccuracy: 0.84893\tPrecision: 0.42231\tRecall: 0.36150\tF1: 0.38955\tF2: 0.37222\n",
      "\tTotal predictions: 15000\tTrue positives:  723\tFalse positives:  989\tFalse negatives: 1277\tTrue negatives: 12011\n",
      "\n"
     ]
    }
   ],
   "source": [
    "### Load the dictionary containing the dataset\n",
    "with open(\"final_project_dataset.pkl\", \"r\") as data_file:\n",
    "    data_dict1 = pickle.load(data_file)\n",
    "\n",
    "    \n",
    "    \n",
    "### Task 2: Remove outlier identified from earlier visualizatoin\n",
    "data_dict1.pop('TOTAL')\n",
    "data_dict1.pop('THE TRAVEL AGENCY IN THE PARK')\n",
    "\n",
    "\n",
    "# add custom features\n",
    "for name in data_dict1:\n",
    "    if data_dict1[name]['total_payments'] != 'NaN' and data_dict1[name]['salary'] != 'NaN':\n",
    "        data_dict1[name]['total_salary_ratio'] = (data_dict1[name]['total_payments']*1./data_dict1[name]['salary'])\n",
    "    else:\n",
    "        data_dict1[name]['total_salary_ratio'] = 'NaN'\n",
    "    if data_dict1[name]['total_payments'] != 'NaN' and data_dict1[name]['total_stock_value'] != 'NaN':\n",
    "        data_dict1[name]['payments_plus_stock'] = data_dict1[name]['total_payments'] \\\n",
    "        + data_dict1[name]['total_stock_value']\n",
    "    else:\n",
    "        data_dict1[name]['payments_plus_stock'] = 'NaN'\n",
    "\n",
    "### Store to my_dataset for easy export below.\n",
    "my_dataset1 = data_dict1\n",
    "         \n",
    "\n",
    "### Extract features and labels from dataset for local testing (use features_selected_list)\n",
    "from pprint import pprint\n",
    "# due to featureFormat() need to add 'poi' as first feature of the list\n",
    "# https://discussions.udacity.com/t/valueerror-the-least-populated-class-in-y-has-only-1-member-which-is-too-few/44984/2\n",
    "poi_first = ['poi']\n",
    "features_selected_list = poi_first + features_selected_list\n",
    "data1 = featureFormat(my_dataset1, features_selected_list, sort_keys = True)\n",
    "labels, features = targetFeatureSplit(data1)\n",
    "pprint(features_selected_list)\n",
    "# pprint(labels)\n",
    "# labels are now all 0.0 and 1.0 as they should be after including POI first\n",
    "dump_classifier_and_data(best_clf, my_dataset1, features_selected_list)\n",
    "main()"
   ]
  },
  {
   "cell_type": "markdown",
   "metadata": {
    "collapsed": true
   },
   "source": [
    "Using SelectKBest, Standard Scaler, PCA, and Guassian NB in a pipeline was able to yield an accuracy of .849, precision of .422, and recall of .362.\n",
    "\n",
    "In order to understand better, I need to determine if I can visualize or output the predicitons of the parameter space.\n",
    "\n",
    "Then, I think I should feed another algorithm into a pipeline or gridsearch and try again to see if I can beat my previous score.\n"
   ]
  },
  {
   "cell_type": "code",
   "execution_count": 23,
   "metadata": {
    "collapsed": false
   },
   "outputs": [],
   "source": [
    "#http://scikit-learn.org/stable/modules/generated/sklearn.model_selection.GridSearchCV.html\n",
    "model_params = grid_search.cv_results_"
   ]
  },
  {
   "cell_type": "code",
   "execution_count": 24,
   "metadata": {
    "collapsed": false
   },
   "outputs": [
    {
     "name": "stderr",
     "output_type": "stream",
     "text": [
      "C:\\Users\\Scott\\Anaconda2\\lib\\site-packages\\ipykernel\\__main__.py:4: FutureWarning: sort(columns=....) is deprecated, use sort_values(by=.....)\n"
     ]
    },
    {
     "data": {
      "text/html": [
       "<div>\n",
       "<table border=\"1\" class=\"dataframe\">\n",
       "  <thead>\n",
       "    <tr style=\"text-align: right;\">\n",
       "      <th></th>\n",
       "      <th>mean_fit_time</th>\n",
       "      <th>mean_score_time</th>\n",
       "      <th>mean_test_score</th>\n",
       "      <th>mean_train_score</th>\n",
       "      <th>param_PCA__n_components</th>\n",
       "      <th>param_PCA__whiten</th>\n",
       "      <th>param_kbest__k</th>\n",
       "      <th>params</th>\n",
       "      <th>rank_test_score</th>\n",
       "    </tr>\n",
       "  </thead>\n",
       "  <tbody>\n",
       "    <tr>\n",
       "      <th>8</th>\n",
       "      <td>0.003000</td>\n",
       "      <td>0.001667</td>\n",
       "      <td>0.797406</td>\n",
       "      <td>0.812257</td>\n",
       "      <td>4</td>\n",
       "      <td>True</td>\n",
       "      <td>12</td>\n",
       "      <td>{u'PCA__n_components': 4, u'kbest__k': 12, u'P...</td>\n",
       "      <td>1</td>\n",
       "    </tr>\n",
       "    <tr>\n",
       "      <th>12</th>\n",
       "      <td>0.002333</td>\n",
       "      <td>0.001667</td>\n",
       "      <td>0.772774</td>\n",
       "      <td>0.793918</td>\n",
       "      <td>6</td>\n",
       "      <td>True</td>\n",
       "      <td>10</td>\n",
       "      <td>{u'PCA__n_components': 6, u'kbest__k': 10, u'P...</td>\n",
       "      <td>2</td>\n",
       "    </tr>\n",
       "    <tr>\n",
       "      <th>3</th>\n",
       "      <td>0.003333</td>\n",
       "      <td>0.001000</td>\n",
       "      <td>0.769393</td>\n",
       "      <td>0.800201</td>\n",
       "      <td>2</td>\n",
       "      <td>True</td>\n",
       "      <td>12</td>\n",
       "      <td>{u'PCA__n_components': 2, u'kbest__k': 12, u'P...</td>\n",
       "      <td>3</td>\n",
       "    </tr>\n",
       "    <tr>\n",
       "      <th>7</th>\n",
       "      <td>0.003000</td>\n",
       "      <td>0.001333</td>\n",
       "      <td>0.766094</td>\n",
       "      <td>0.788511</td>\n",
       "      <td>4</td>\n",
       "      <td>True</td>\n",
       "      <td>10</td>\n",
       "      <td>{u'PCA__n_components': 4, u'kbest__k': 10, u'P...</td>\n",
       "      <td>4</td>\n",
       "    </tr>\n",
       "    <tr>\n",
       "      <th>13</th>\n",
       "      <td>0.002333</td>\n",
       "      <td>0.002000</td>\n",
       "      <td>0.762126</td>\n",
       "      <td>0.783814</td>\n",
       "      <td>6</td>\n",
       "      <td>True</td>\n",
       "      <td>12</td>\n",
       "      <td>{u'PCA__n_components': 6, u'kbest__k': 12, u'P...</td>\n",
       "      <td>5</td>\n",
       "    </tr>\n",
       "    <tr>\n",
       "      <th>4</th>\n",
       "      <td>0.003000</td>\n",
       "      <td>0.001667</td>\n",
       "      <td>0.740077</td>\n",
       "      <td>0.764100</td>\n",
       "      <td>2</td>\n",
       "      <td>True</td>\n",
       "      <td>all</td>\n",
       "      <td>{u'PCA__n_components': 2, u'kbest__k': u'all',...</td>\n",
       "      <td>6</td>\n",
       "    </tr>\n",
       "    <tr>\n",
       "      <th>11</th>\n",
       "      <td>0.002333</td>\n",
       "      <td>0.001667</td>\n",
       "      <td>0.734771</td>\n",
       "      <td>0.748466</td>\n",
       "      <td>6</td>\n",
       "      <td>True</td>\n",
       "      <td>8</td>\n",
       "      <td>{u'PCA__n_components': 6, u'kbest__k': 8, u'PC...</td>\n",
       "      <td>7</td>\n",
       "    </tr>\n",
       "    <tr>\n",
       "      <th>6</th>\n",
       "      <td>0.003000</td>\n",
       "      <td>0.001000</td>\n",
       "      <td>0.731449</td>\n",
       "      <td>0.756132</td>\n",
       "      <td>4</td>\n",
       "      <td>True</td>\n",
       "      <td>8</td>\n",
       "      <td>{u'PCA__n_components': 4, u'kbest__k': 8, u'PC...</td>\n",
       "      <td>8</td>\n",
       "    </tr>\n",
       "    <tr>\n",
       "      <th>9</th>\n",
       "      <td>0.003000</td>\n",
       "      <td>0.001333</td>\n",
       "      <td>0.727914</td>\n",
       "      <td>0.811986</td>\n",
       "      <td>4</td>\n",
       "      <td>True</td>\n",
       "      <td>all</td>\n",
       "      <td>{u'PCA__n_components': 4, u'kbest__k': u'all',...</td>\n",
       "      <td>9</td>\n",
       "    </tr>\n",
       "    <tr>\n",
       "      <th>2</th>\n",
       "      <td>0.003000</td>\n",
       "      <td>0.001000</td>\n",
       "      <td>0.721441</td>\n",
       "      <td>0.794523</td>\n",
       "      <td>2</td>\n",
       "      <td>True</td>\n",
       "      <td>10</td>\n",
       "      <td>{u'PCA__n_components': 2, u'kbest__k': 10, u'P...</td>\n",
       "      <td>10</td>\n",
       "    </tr>\n",
       "    <tr>\n",
       "      <th>1</th>\n",
       "      <td>0.006333</td>\n",
       "      <td>0.001333</td>\n",
       "      <td>0.720101</td>\n",
       "      <td>0.777184</td>\n",
       "      <td>2</td>\n",
       "      <td>True</td>\n",
       "      <td>8</td>\n",
       "      <td>{u'PCA__n_components': 2, u'kbest__k': 8, u'PC...</td>\n",
       "      <td>11</td>\n",
       "    </tr>\n",
       "    <tr>\n",
       "      <th>5</th>\n",
       "      <td>0.002667</td>\n",
       "      <td>0.001000</td>\n",
       "      <td>0.706028</td>\n",
       "      <td>0.739402</td>\n",
       "      <td>4</td>\n",
       "      <td>True</td>\n",
       "      <td>6</td>\n",
       "      <td>{u'PCA__n_components': 4, u'kbest__k': 6, u'PC...</td>\n",
       "      <td>12</td>\n",
       "    </tr>\n",
       "    <tr>\n",
       "      <th>0</th>\n",
       "      <td>0.045000</td>\n",
       "      <td>0.001000</td>\n",
       "      <td>0.681392</td>\n",
       "      <td>0.744183</td>\n",
       "      <td>2</td>\n",
       "      <td>True</td>\n",
       "      <td>6</td>\n",
       "      <td>{u'PCA__n_components': 2, u'kbest__k': 6, u'PC...</td>\n",
       "      <td>13</td>\n",
       "    </tr>\n",
       "    <tr>\n",
       "      <th>10</th>\n",
       "      <td>0.003000</td>\n",
       "      <td>0.001333</td>\n",
       "      <td>0.649310</td>\n",
       "      <td>0.770036</td>\n",
       "      <td>6</td>\n",
       "      <td>True</td>\n",
       "      <td>6</td>\n",
       "      <td>{u'PCA__n_components': 6, u'kbest__k': 6, u'PC...</td>\n",
       "      <td>14</td>\n",
       "    </tr>\n",
       "    <tr>\n",
       "      <th>14</th>\n",
       "      <td>0.003000</td>\n",
       "      <td>0.001667</td>\n",
       "      <td>0.636023</td>\n",
       "      <td>0.820978</td>\n",
       "      <td>6</td>\n",
       "      <td>True</td>\n",
       "      <td>all</td>\n",
       "      <td>{u'PCA__n_components': 6, u'kbest__k': u'all',...</td>\n",
       "      <td>15</td>\n",
       "    </tr>\n",
       "  </tbody>\n",
       "</table>\n",
       "</div>"
      ],
      "text/plain": [
       "    mean_fit_time  mean_score_time  mean_test_score  mean_train_score  \\\n",
       "8        0.003000         0.001667         0.797406          0.812257   \n",
       "12       0.002333         0.001667         0.772774          0.793918   \n",
       "3        0.003333         0.001000         0.769393          0.800201   \n",
       "7        0.003000         0.001333         0.766094          0.788511   \n",
       "13       0.002333         0.002000         0.762126          0.783814   \n",
       "4        0.003000         0.001667         0.740077          0.764100   \n",
       "11       0.002333         0.001667         0.734771          0.748466   \n",
       "6        0.003000         0.001000         0.731449          0.756132   \n",
       "9        0.003000         0.001333         0.727914          0.811986   \n",
       "2        0.003000         0.001000         0.721441          0.794523   \n",
       "1        0.006333         0.001333         0.720101          0.777184   \n",
       "5        0.002667         0.001000         0.706028          0.739402   \n",
       "0        0.045000         0.001000         0.681392          0.744183   \n",
       "10       0.003000         0.001333         0.649310          0.770036   \n",
       "14       0.003000         0.001667         0.636023          0.820978   \n",
       "\n",
       "   param_PCA__n_components param_PCA__whiten param_kbest__k  \\\n",
       "8                        4              True             12   \n",
       "12                       6              True             10   \n",
       "3                        2              True             12   \n",
       "7                        4              True             10   \n",
       "13                       6              True             12   \n",
       "4                        2              True            all   \n",
       "11                       6              True              8   \n",
       "6                        4              True              8   \n",
       "9                        4              True            all   \n",
       "2                        2              True             10   \n",
       "1                        2              True              8   \n",
       "5                        4              True              6   \n",
       "0                        2              True              6   \n",
       "10                       6              True              6   \n",
       "14                       6              True            all   \n",
       "\n",
       "                                               params  rank_test_score  \n",
       "8   {u'PCA__n_components': 4, u'kbest__k': 12, u'P...                1  \n",
       "12  {u'PCA__n_components': 6, u'kbest__k': 10, u'P...                2  \n",
       "3   {u'PCA__n_components': 2, u'kbest__k': 12, u'P...                3  \n",
       "7   {u'PCA__n_components': 4, u'kbest__k': 10, u'P...                4  \n",
       "13  {u'PCA__n_components': 6, u'kbest__k': 12, u'P...                5  \n",
       "4   {u'PCA__n_components': 2, u'kbest__k': u'all',...                6  \n",
       "11  {u'PCA__n_components': 6, u'kbest__k': 8, u'PC...                7  \n",
       "6   {u'PCA__n_components': 4, u'kbest__k': 8, u'PC...                8  \n",
       "9   {u'PCA__n_components': 4, u'kbest__k': u'all',...                9  \n",
       "2   {u'PCA__n_components': 2, u'kbest__k': 10, u'P...               10  \n",
       "1   {u'PCA__n_components': 2, u'kbest__k': 8, u'PC...               11  \n",
       "5   {u'PCA__n_components': 4, u'kbest__k': 6, u'PC...               12  \n",
       "0   {u'PCA__n_components': 2, u'kbest__k': 6, u'PC...               13  \n",
       "10  {u'PCA__n_components': 6, u'kbest__k': 6, u'PC...               14  \n",
       "14  {u'PCA__n_components': 6, u'kbest__k': u'all',...               15  "
      ]
     },
     "execution_count": 24,
     "metadata": {},
     "output_type": "execute_result"
    }
   ],
   "source": [
    "import pandas as pd\n",
    "\n",
    "models_df = pd.DataFrame.from_dict(model_params, orient = 'columns')\n",
    "models_df[models_df.columns[:9]].sort('mean_test_score',ascending = False)"
   ]
  },
  {
   "cell_type": "code",
   "execution_count": 25,
   "metadata": {
    "collapsed": false
   },
   "outputs": [
    {
     "name": "stdout",
     "output_type": "stream",
     "text": [
      "<class 'pandas.core.frame.DataFrame'>\n",
      "RangeIndex: 15 entries, 0 to 14\n",
      "Data columns (total 19 columns):\n",
      "mean_fit_time              15 non-null float64\n",
      "mean_score_time            15 non-null float64\n",
      "mean_test_score            15 non-null float64\n",
      "mean_train_score           15 non-null float64\n",
      "param_PCA__n_components    15 non-null object\n",
      "param_PCA__whiten          15 non-null object\n",
      "param_kbest__k             15 non-null object\n",
      "params                     15 non-null object\n",
      "rank_test_score            15 non-null int32\n",
      "split0_test_score          15 non-null float64\n",
      "split0_train_score         15 non-null float64\n",
      "split1_test_score          15 non-null float64\n",
      "split1_train_score         15 non-null float64\n",
      "split2_test_score          15 non-null float64\n",
      "split2_train_score         15 non-null float64\n",
      "std_fit_time               15 non-null float64\n",
      "std_score_time             15 non-null float64\n",
      "std_test_score             15 non-null float64\n",
      "std_train_score            15 non-null float64\n",
      "dtypes: float64(14), int32(1), object(4)\n",
      "memory usage: 2.2+ KB\n"
     ]
    }
   ],
   "source": [
    "models_df.info()"
   ]
  },
  {
   "cell_type": "code",
   "execution_count": 26,
   "metadata": {
    "collapsed": false
   },
   "outputs": [],
   "source": [
    "import matplotlib.pyplot as plt\n",
    "import seaborn as sns\n",
    "%matplotlib inline\n",
    "\n",
    "# oonvert appropriate columns to numeric for plotting\n",
    "ints = ['param_PCA__n_components','param_kbest__k']\n",
    "\n",
    "for col in ints:\n",
    "    models_df[col] =  pd.to_numeric(models_df[col], errors = 'coerce')\n",
    "\n",
    "\n"
   ]
  },
  {
   "cell_type": "code",
   "execution_count": 27,
   "metadata": {
    "collapsed": false
   },
   "outputs": [
    {
     "name": "stdout",
     "output_type": "stream",
     "text": [
      "<class 'pandas.core.frame.DataFrame'>\n",
      "RangeIndex: 15 entries, 0 to 14\n",
      "Data columns (total 19 columns):\n",
      "mean_fit_time              15 non-null float64\n",
      "mean_score_time            15 non-null float64\n",
      "mean_test_score            15 non-null float64\n",
      "mean_train_score           15 non-null float64\n",
      "param_PCA__n_components    15 non-null int64\n",
      "param_PCA__whiten          15 non-null object\n",
      "param_kbest__k             12 non-null float64\n",
      "params                     15 non-null object\n",
      "rank_test_score            15 non-null int32\n",
      "split0_test_score          15 non-null float64\n",
      "split0_train_score         15 non-null float64\n",
      "split1_test_score          15 non-null float64\n",
      "split1_train_score         15 non-null float64\n",
      "split2_test_score          15 non-null float64\n",
      "split2_train_score         15 non-null float64\n",
      "std_fit_time               15 non-null float64\n",
      "std_score_time             15 non-null float64\n",
      "std_test_score             15 non-null float64\n",
      "std_train_score            15 non-null float64\n",
      "dtypes: float64(15), int32(1), int64(1), object(2)\n",
      "memory usage: 2.2+ KB\n"
     ]
    }
   ],
   "source": [
    "models_df.info()"
   ]
  },
  {
   "cell_type": "code",
   "execution_count": 28,
   "metadata": {
    "collapsed": false
   },
   "outputs": [
    {
     "data": {
      "text/plain": [
       "<seaborn.axisgrid.PairGrid at 0xb768cf8>"
      ]
     },
     "execution_count": 28,
     "metadata": {},
     "output_type": "execute_result"
    },
    {
     "data": {
      "image/png": "[encoded data removed]",
      "text/plain": [
       "<matplotlib.figure.Figure at 0xb768278>"
      ]
     },
     "metadata": {},
     "output_type": "display_data"
    }
   ],
   "source": [
    "%matplotlib inline\n",
    "\n",
    "sns.pairplot(models_df, diag_kind='kde', palette=\"husl\",\n",
    "             vars = ['mean_fit_time', 'mean_test_score', 'mean_train_score', 'param_PCA__n_components',\n",
    "                     'param_kbest__k'])\n"
   ]
  },
  {
   "cell_type": "markdown",
   "metadata": {},
   "source": [
    "Just wanted to explore the model parameter space a bit. There is no relationship between PCA__n_components and mean test score. This seems plausible as it's not how many components, but also what features are reduced. There does appear to be some relationship between mean test score and number of features.Perhaps having a larger number of features will allow PCA to have a larger pool of features to find the optimum mix."
   ]
  },
  {
   "cell_type": "code",
   "execution_count": 29,
   "metadata": {
    "collapsed": false
   },
   "outputs": [],
   "source": [
    "# try pipeline w decision tree\n",
    "\n",
    "kbest = SelectKBest(f_classif)\n",
    "pca = PCA()\n",
    "scaler = preprocessing.StandardScaler()\n",
    "clf_DT = tree.DecisionTreeClassifier()\n",
    "\n",
    "\n",
    "# read that I should normalize before PCA so I put normalizer before PCA in pipeline\n",
    "# http://sebastianraschka.com/Articles/2014_about_feature_scaling.html\n",
    "\n",
    "pipe_DT = Pipeline(steps =[\n",
    "    ('kbest', kbest),\n",
    "    #('std_scale', scaler),    \n",
    "    #('PCA', pca),   \n",
    "    ('DT_clf', clf_DT)    \n",
    "    ])\n",
    "\n",
    "parameters_DT = {#\"PCA__n_components\":[2,4,6], \n",
    "                 #\"PCA__whiten\": [True],\n",
    "                 \"kbest__k\":[6,8,10,12,'all'], \"DT_clf__min_samples_split\":[2,3,4],\n",
    "                 \"DT_clf__max_depth\":[6,4]}"
   ]
  },
  {
   "cell_type": "code",
   "execution_count": 30,
   "metadata": {
    "collapsed": false
   },
   "outputs": [
    {
     "name": "stdout",
     "output_type": "stream",
     "text": [
      "\n",
      "Performing grid search...\n",
      "('pipeline:', ['kbest', 'DT_clf'])\n",
      "parameters:\n",
      "Fitting 3 folds for each of 30 candidates, totalling 90 fits\n",
      "done in 0:00:02.525000\n",
      "\n",
      "\n",
      "Best score: 0.687\n",
      "\n",
      "Best parameters set:\n",
      "\tDT_clf__max_depth: 4\n",
      "\tDT_clf__min_samples_split: 2\n",
      "\tkbest__k: 6\n"
     ]
    },
    {
     "name": "stderr",
     "output_type": "stream",
     "text": [
      "[Parallel(n_jobs=-1)]: Done  90 out of  90 | elapsed:    2.0s finished\n"
     ]
    }
   ],
   "source": [
    "# use pipeline in GridSearchCV\n",
    "\n",
    "if __name__ == \"__main__\":\n",
    "    \n",
    "    # initialize grid search\n",
    "    grid_search = GridSearchCV(pipe_DT, parameters_DT, n_jobs = -1, verbose = 1, scoring = \"roc_auc\")\n",
    " \n",
    "    print(\"\\nPerforming grid search...\")\n",
    "    print(\"pipeline:\", [name for name, _ in pipe_DT.steps])\n",
    "    print(\"parameters:\")\n",
    "    #pprint(parameters)\n",
    "    t0 = dt.now()\n",
    "    grid_search.fit(features_train, labels_train)\n",
    "    print(\"done in {}\\n\".format(dt.now() - t0))\n",
    "    print(\"\\nBest score: {:0.3f}\".format(grid_search.best_score_))\n",
    "    print(\"\\nBest parameters set:\")\n",
    "    best_parameters = grid_search.best_estimator_.get_params()\n",
    "    for param_name in sorted(parameters_DT.keys()):\n",
    "        print(\"\\t{}: {}\".format(param_name, best_parameters[param_name]))\n"
   ]
  },
  {
   "cell_type": "code",
   "execution_count": 31,
   "metadata": {
    "collapsed": false
   },
   "outputs": [
    {
     "data": {
      "text/plain": [
       "['salary',\n",
       " 'bonus',\n",
       " 'deferred_income',\n",
       " 'total_stock_value',\n",
       " 'exercised_stock_options',\n",
       " 'payments_plus_stock']"
      ]
     },
     "execution_count": 31,
     "metadata": {},
     "output_type": "execute_result"
    }
   ],
   "source": [
    "features_selected_bool = grid_search.best_estimator_.named_steps['kbest'].get_support()\n",
    "features_selected_list = [x for x, y in zip(features_list1[1:], features_selected_bool) if y]\n",
    "features_selected_list"
   ]
  },
  {
   "cell_type": "code",
   "execution_count": 32,
   "metadata": {
    "collapsed": true
   },
   "outputs": [],
   "source": [
    "best_clf = grid_search.best_estimator_.fit(features_train, labels_train)"
   ]
  },
  {
   "cell_type": "code",
   "execution_count": 33,
   "metadata": {
    "collapsed": false
   },
   "outputs": [
    {
     "name": "stdout",
     "output_type": "stream",
     "text": [
      "['poi',\n",
      " 'salary',\n",
      " 'bonus',\n",
      " 'deferred_income',\n",
      " 'total_stock_value',\n",
      " 'exercised_stock_options',\n",
      " 'payments_plus_stock']\n",
      "Pipeline(steps=[('kbest', SelectKBest(k=6, score_func=<function f_classif at 0x0000000007531F28>)), ('DT_clf', DecisionTreeClassifier(class_weight=None, criterion='gini', max_depth=4,\n",
      "            max_features=None, max_leaf_nodes=None,\n",
      "            min_impurity_split=1e-07, min_samples_leaf=1,\n",
      "            min_samples_split=2, min_weight_fraction_leaf=0.0,\n",
      "            presort=False, random_state=None, splitter='best'))])\n",
      "\tAccuracy: 0.81857\tPrecision: 0.28331\tRecall: 0.17650\tF1: 0.21750\tF2: 0.19089\n",
      "\tTotal predictions: 14000\tTrue positives:  353\tFalse positives:  893\tFalse negatives: 1647\tTrue negatives: 11107\n",
      "\n"
     ]
    }
   ],
   "source": [
    "### Load the dictionary containing the dataset\n",
    "with open(\"final_project_dataset.pkl\", \"r\") as data_file:\n",
    "    data_dict1 = pickle.load(data_file)\n",
    "\n",
    "    \n",
    "    \n",
    "### Task 2: Remove outlier identified from earlier visualizatoin\n",
    "data_dict1.pop('TOTAL')\n",
    "data_dict1.pop('THE TRAVEL AGENCY IN THE PARK')\n",
    "\n",
    "\n",
    "# add custom features\n",
    "for name in data_dict1:\n",
    "    if data_dict1[name]['total_payments'] != 'NaN' and data_dict1[name]['salary'] != 'NaN':\n",
    "        data_dict1[name]['total_salary_ratio'] = (data_dict1[name]['total_payments']*1./data_dict1[name]['salary'])\n",
    "    else:\n",
    "        data_dict1[name]['total_salary_ratio'] = 'NaN'\n",
    "    if data_dict1[name]['total_payments'] != 'NaN' and data_dict1[name]['total_stock_value'] != 'NaN':\n",
    "        data_dict1[name]['payments_plus_stock'] = data_dict1[name]['total_payments'] \\\n",
    "        + data_dict1[name]['total_stock_value']\n",
    "    else:\n",
    "        data_dict1[name]['payments_plus_stock'] = 'NaN'\n",
    "\n",
    "### Store to my_dataset for easy export below.\n",
    "my_dataset1 = data_dict1\n",
    "         \n",
    "\n",
    "### Extract features and labels from dataset for local testing (use features_selected_list)\n",
    "from pprint import pprint\n",
    "# due to featureFormat() need to add 'poi' as first feature of the list\n",
    "# https://discussions.udacity.com/t/valueerror-the-least-populated-class-in-y-has-only-1-member-which-is-too-few/44984/2\n",
    "poi_first = ['poi']\n",
    "features_selected_list = poi_first + features_selected_list\n",
    "data1 = featureFormat(my_dataset1, features_selected_list, sort_keys = True)\n",
    "labels, features = targetFeatureSplit(data1)\n",
    "pprint(features_selected_list)\n",
    "# pprint(labels)\n",
    "# labels are now all 0.0 and 1.0 as they should be after including POI first\n",
    "dump_classifier_and_data(best_clf, my_dataset1, features_selected_list)\n",
    "main()"
   ]
  },
  {
   "cell_type": "markdown",
   "metadata": {},
   "source": [
    "['poi',\n",
    " 'salary',\n",
    " 'bonus',\n",
    " 'deferred_income',\n",
    " 'total_stock_value',\n",
    " 'exercised_stock_options',\n",
    " 'payments_plus_stock']\n",
    "Pipeline(steps=[('kbest', SelectKBest(k=6, score_func=<function f_classif at 0x00000000075B2EB8>)), ('std_scale', StandardScaler(copy=True, with_mean=True, with_std=True)), ('PCA', PCA(copy=True, iterated_power='auto', n_components=4, random_state=None,\n",
    "  svd_solver='auto', tol=0.0, whiten=True)), ('DT_clf',...it=2, min_weight_fraction_leaf=0.0,\n",
    "            presort=False, random_state=None, splitter='best'))])\n",
    "\tAccuracy: 0.79436\tPrecision: 0.26635\tRecall: 0.25050\tF1: 0.25818\tF2: 0.25352\n",
    "\tTotal predictions: 14000\tTrue positives:  501\tFalse positives: 1380\tFalse negatives: 1499\tTrue negatives: 10620\n",
    "\n",
    "With the parameters above, I am not getting prediction metrics as high as using decision tree alone outside of a pipeline. Perhaps PCA or feature scaling is affecting signal. **NOTE** while editing code above to modify parameters of pipeline_DT, I noticed that I had not changed the parameters object to point to parameters_DT yet. So the results above are invalid and I need to rerun them with the correct parameters. \n",
    "\n",
    "After correction:\n",
    "['poi',\n",
    " 'salary',\n",
    " 'total_payments',\n",
    " 'bonus',\n",
    " 'other',\n",
    " 'deferred_income',\n",
    " 'total_stock_value',\n",
    " 'exercised_stock_options',\n",
    " 'long_term_incentive',\n",
    " 'restricted_stock',\n",
    " 'from_poi_to_this_person',\n",
    " 'shared_receipt_with_poi',\n",
    " 'payments_plus_stock']\n",
    "Pipeline(steps=[('kbest', SelectKBest(k=12, score_func=<function f_classif at 0x0000000003E296D8>)), ('std_scale', StandardScaler(copy=True, with_mean=True, with_std=True)), ('PCA', PCA(copy=True, iterated_power='auto', n_components=2, random_state=None,\n",
    "  svd_solver='auto', tol=0.0, whiten=True)), ('DT_clf'...it=2, min_weight_fraction_leaf=0.0,\n",
    "            presort=False, random_state=None, splitter='best'))])\n",
    "\tAccuracy: 0.84080\tPrecision: 0.25443\tRecall: 0.10050\tF1: 0.14409\tF2: 0.11433\n",
    "\tTotal predictions: 15000\tTrue positives:  201\tFalse positives:  589\tFalse negatives: 1799\tTrue negatives: 12411\n",
    "\n"
   ]
  },
  {
   "cell_type": "code",
   "execution_count": null,
   "metadata": {
    "collapsed": true
   },
   "outputs": [],
   "source": []
  }
 ],
 "metadata": {
  "kernelspec": {
   "display_name": "Python 2",
   "language": "python",
   "name": "python2"
  },
  "language_info": {
   "codemirror_mode": {
    "name": "ipython",
    "version": 2
   },
   "file_extension": ".py",
   "mimetype": "text/x-python",
   "name": "python",
   "nbconvert_exporter": "python",
   "pygments_lexer": "ipython2",
   "version": "2.7.11"
  }
 },
 "nbformat": 4,
 "nbformat_minor": 0
}
